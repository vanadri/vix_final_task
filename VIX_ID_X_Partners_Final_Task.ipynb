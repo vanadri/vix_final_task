{
  "nbformat": 4,
  "nbformat_minor": 0,
  "metadata": {
    "colab": {
      "name": "VIX_ID/X Partners_Final Task.ipynb",
      "provenance": [],
      "toc_visible": true,
      "collapsed_sections": []
    },
    "kernelspec": {
      "name": "python3",
      "display_name": "Python 3"
    },
    "language_info": {
      "name": "python"
    }
  },
  "cells": [
    {
      "cell_type": "markdown",
      "source": [
        "# End-to-end Solution"
      ],
      "metadata": {
        "id": "aO3aWsYAZL7Y"
      }
    },
    {
      "cell_type": "markdown",
      "source": [
        "## Import Data"
      ],
      "metadata": {
        "id": "b_4U9_mi7geI"
      }
    },
    {
      "cell_type": "code",
      "execution_count": 1,
      "metadata": {
        "id": "ZL0EMrcuYbRA"
      },
      "outputs": [],
      "source": [
        "#import library\n",
        "import pandas as pd\n",
        "import numpy as np\n",
        "import matplotlib.pyplot as plt\n",
        "import seaborn as sns\n",
        "import datetime\n",
        "import random as rnd\n",
        "\n",
        "from sklearn import preprocessing\n",
        "from sklearn.preprocessing import LabelEncoder\n",
        "from sklearn.preprocessing import MinMaxScaler\n",
        "from sklearn.preprocessing import StandardScaler\n",
        "from sklearn.model_selection import train_test_split\n",
        "from sklearn.metrics import precision_score, recall_score, confusion_matrix, classification_report, accuracy_score, f1_score\n",
        "\n",
        "import tensorflow as tf\n",
        "from tensorflow.keras.models import Sequential\n",
        "from tensorflow.keras.layers import Dense, Dropout, Activation\n",
        "from tensorflow.keras.constraints import max_norm\n",
        "from tensorflow.keras.optimizers import Adam\n",
        "from tensorflow.keras.callbacks import EarlyStopping\n",
        "from tensorflow.keras.models import load_model\n",
        "\n",
        "np.random.seed(0)\n",
        "import warnings\n",
        "warnings.filterwarnings(\"ignore\")"
      ]
    },
    {
      "cell_type": "code",
      "source": [
        "df = pd.read_csv(\"/content/drive/MyDrive/VIX Data Scientist/loan_data_2007_2014.csv\")\n",
        "df = df.drop(\"Unnamed: 0\", axis=1)\n",
        "df"
      ],
      "metadata": {
        "colab": {
          "base_uri": "https://localhost:8080/",
          "height": 661
        },
        "id": "hs_UXmnG6aLE",
        "outputId": "4056a97c-f492-46a8-971f-bea84b8f71d1"
      },
      "execution_count": 2,
      "outputs": [
        {
          "output_type": "execute_result",
          "data": {
            "text/plain": [
              "             id  member_id  loan_amnt  funded_amnt  funded_amnt_inv  \\\n",
              "0       1077501    1296599       5000         5000           4975.0   \n",
              "1       1077430    1314167       2500         2500           2500.0   \n",
              "2       1077175    1313524       2400         2400           2400.0   \n",
              "3       1076863    1277178      10000        10000          10000.0   \n",
              "4       1075358    1311748       3000         3000           3000.0   \n",
              "...         ...        ...        ...          ...              ...   \n",
              "466280  8598660    1440975      18400        18400          18400.0   \n",
              "466281  9684700   11536848      22000        22000          22000.0   \n",
              "466282  9584776   11436914      20700        20700          20700.0   \n",
              "466283  9604874   11457002       2000         2000           2000.0   \n",
              "466284  9199665   11061576      10000        10000           9975.0   \n",
              "\n",
              "              term  int_rate  installment grade sub_grade  ... total_bal_il  \\\n",
              "0        36 months     10.65       162.87     B        B2  ...          NaN   \n",
              "1        60 months     15.27        59.83     C        C4  ...          NaN   \n",
              "2        36 months     15.96        84.33     C        C5  ...          NaN   \n",
              "3        36 months     13.49       339.31     C        C1  ...          NaN   \n",
              "4        60 months     12.69        67.79     B        B5  ...          NaN   \n",
              "...            ...       ...          ...   ...       ...  ...          ...   \n",
              "466280   60 months     14.47       432.64     C        C2  ...          NaN   \n",
              "466281   60 months     19.97       582.50     D        D5  ...          NaN   \n",
              "466282   60 months     16.99       514.34     D        D1  ...          NaN   \n",
              "466283   36 months      7.90        62.59     A        A4  ...          NaN   \n",
              "466284   36 months     19.20       367.58     D        D3  ...          NaN   \n",
              "\n",
              "       il_util open_rv_12m  open_rv_24m max_bal_bc all_util total_rev_hi_lim  \\\n",
              "0          NaN         NaN          NaN        NaN      NaN              NaN   \n",
              "1          NaN         NaN          NaN        NaN      NaN              NaN   \n",
              "2          NaN         NaN          NaN        NaN      NaN              NaN   \n",
              "3          NaN         NaN          NaN        NaN      NaN              NaN   \n",
              "4          NaN         NaN          NaN        NaN      NaN              NaN   \n",
              "...        ...         ...          ...        ...      ...              ...   \n",
              "466280     NaN         NaN          NaN        NaN      NaN          29900.0   \n",
              "466281     NaN         NaN          NaN        NaN      NaN          39400.0   \n",
              "466282     NaN         NaN          NaN        NaN      NaN          13100.0   \n",
              "466283     NaN         NaN          NaN        NaN      NaN          53100.0   \n",
              "466284     NaN         NaN          NaN        NaN      NaN          16000.0   \n",
              "\n",
              "       inq_fi total_cu_tl inq_last_12m  \n",
              "0         NaN         NaN          NaN  \n",
              "1         NaN         NaN          NaN  \n",
              "2         NaN         NaN          NaN  \n",
              "3         NaN         NaN          NaN  \n",
              "4         NaN         NaN          NaN  \n",
              "...       ...         ...          ...  \n",
              "466280    NaN         NaN          NaN  \n",
              "466281    NaN         NaN          NaN  \n",
              "466282    NaN         NaN          NaN  \n",
              "466283    NaN         NaN          NaN  \n",
              "466284    NaN         NaN          NaN  \n",
              "\n",
              "[466285 rows x 74 columns]"
            ],
            "text/html": [
              "\n",
              "  <div id=\"df-e2620342-135f-4aa8-8de7-7626a35e4e28\">\n",
              "    <div class=\"colab-df-container\">\n",
              "      <div>\n",
              "<style scoped>\n",
              "    .dataframe tbody tr th:only-of-type {\n",
              "        vertical-align: middle;\n",
              "    }\n",
              "\n",
              "    .dataframe tbody tr th {\n",
              "        vertical-align: top;\n",
              "    }\n",
              "\n",
              "    .dataframe thead th {\n",
              "        text-align: right;\n",
              "    }\n",
              "</style>\n",
              "<table border=\"1\" class=\"dataframe\">\n",
              "  <thead>\n",
              "    <tr style=\"text-align: right;\">\n",
              "      <th></th>\n",
              "      <th>id</th>\n",
              "      <th>member_id</th>\n",
              "      <th>loan_amnt</th>\n",
              "      <th>funded_amnt</th>\n",
              "      <th>funded_amnt_inv</th>\n",
              "      <th>term</th>\n",
              "      <th>int_rate</th>\n",
              "      <th>installment</th>\n",
              "      <th>grade</th>\n",
              "      <th>sub_grade</th>\n",
              "      <th>...</th>\n",
              "      <th>total_bal_il</th>\n",
              "      <th>il_util</th>\n",
              "      <th>open_rv_12m</th>\n",
              "      <th>open_rv_24m</th>\n",
              "      <th>max_bal_bc</th>\n",
              "      <th>all_util</th>\n",
              "      <th>total_rev_hi_lim</th>\n",
              "      <th>inq_fi</th>\n",
              "      <th>total_cu_tl</th>\n",
              "      <th>inq_last_12m</th>\n",
              "    </tr>\n",
              "  </thead>\n",
              "  <tbody>\n",
              "    <tr>\n",
              "      <th>0</th>\n",
              "      <td>1077501</td>\n",
              "      <td>1296599</td>\n",
              "      <td>5000</td>\n",
              "      <td>5000</td>\n",
              "      <td>4975.0</td>\n",
              "      <td>36 months</td>\n",
              "      <td>10.65</td>\n",
              "      <td>162.87</td>\n",
              "      <td>B</td>\n",
              "      <td>B2</td>\n",
              "      <td>...</td>\n",
              "      <td>NaN</td>\n",
              "      <td>NaN</td>\n",
              "      <td>NaN</td>\n",
              "      <td>NaN</td>\n",
              "      <td>NaN</td>\n",
              "      <td>NaN</td>\n",
              "      <td>NaN</td>\n",
              "      <td>NaN</td>\n",
              "      <td>NaN</td>\n",
              "      <td>NaN</td>\n",
              "    </tr>\n",
              "    <tr>\n",
              "      <th>1</th>\n",
              "      <td>1077430</td>\n",
              "      <td>1314167</td>\n",
              "      <td>2500</td>\n",
              "      <td>2500</td>\n",
              "      <td>2500.0</td>\n",
              "      <td>60 months</td>\n",
              "      <td>15.27</td>\n",
              "      <td>59.83</td>\n",
              "      <td>C</td>\n",
              "      <td>C4</td>\n",
              "      <td>...</td>\n",
              "      <td>NaN</td>\n",
              "      <td>NaN</td>\n",
              "      <td>NaN</td>\n",
              "      <td>NaN</td>\n",
              "      <td>NaN</td>\n",
              "      <td>NaN</td>\n",
              "      <td>NaN</td>\n",
              "      <td>NaN</td>\n",
              "      <td>NaN</td>\n",
              "      <td>NaN</td>\n",
              "    </tr>\n",
              "    <tr>\n",
              "      <th>2</th>\n",
              "      <td>1077175</td>\n",
              "      <td>1313524</td>\n",
              "      <td>2400</td>\n",
              "      <td>2400</td>\n",
              "      <td>2400.0</td>\n",
              "      <td>36 months</td>\n",
              "      <td>15.96</td>\n",
              "      <td>84.33</td>\n",
              "      <td>C</td>\n",
              "      <td>C5</td>\n",
              "      <td>...</td>\n",
              "      <td>NaN</td>\n",
              "      <td>NaN</td>\n",
              "      <td>NaN</td>\n",
              "      <td>NaN</td>\n",
              "      <td>NaN</td>\n",
              "      <td>NaN</td>\n",
              "      <td>NaN</td>\n",
              "      <td>NaN</td>\n",
              "      <td>NaN</td>\n",
              "      <td>NaN</td>\n",
              "    </tr>\n",
              "    <tr>\n",
              "      <th>3</th>\n",
              "      <td>1076863</td>\n",
              "      <td>1277178</td>\n",
              "      <td>10000</td>\n",
              "      <td>10000</td>\n",
              "      <td>10000.0</td>\n",
              "      <td>36 months</td>\n",
              "      <td>13.49</td>\n",
              "      <td>339.31</td>\n",
              "      <td>C</td>\n",
              "      <td>C1</td>\n",
              "      <td>...</td>\n",
              "      <td>NaN</td>\n",
              "      <td>NaN</td>\n",
              "      <td>NaN</td>\n",
              "      <td>NaN</td>\n",
              "      <td>NaN</td>\n",
              "      <td>NaN</td>\n",
              "      <td>NaN</td>\n",
              "      <td>NaN</td>\n",
              "      <td>NaN</td>\n",
              "      <td>NaN</td>\n",
              "    </tr>\n",
              "    <tr>\n",
              "      <th>4</th>\n",
              "      <td>1075358</td>\n",
              "      <td>1311748</td>\n",
              "      <td>3000</td>\n",
              "      <td>3000</td>\n",
              "      <td>3000.0</td>\n",
              "      <td>60 months</td>\n",
              "      <td>12.69</td>\n",
              "      <td>67.79</td>\n",
              "      <td>B</td>\n",
              "      <td>B5</td>\n",
              "      <td>...</td>\n",
              "      <td>NaN</td>\n",
              "      <td>NaN</td>\n",
              "      <td>NaN</td>\n",
              "      <td>NaN</td>\n",
              "      <td>NaN</td>\n",
              "      <td>NaN</td>\n",
              "      <td>NaN</td>\n",
              "      <td>NaN</td>\n",
              "      <td>NaN</td>\n",
              "      <td>NaN</td>\n",
              "    </tr>\n",
              "    <tr>\n",
              "      <th>...</th>\n",
              "      <td>...</td>\n",
              "      <td>...</td>\n",
              "      <td>...</td>\n",
              "      <td>...</td>\n",
              "      <td>...</td>\n",
              "      <td>...</td>\n",
              "      <td>...</td>\n",
              "      <td>...</td>\n",
              "      <td>...</td>\n",
              "      <td>...</td>\n",
              "      <td>...</td>\n",
              "      <td>...</td>\n",
              "      <td>...</td>\n",
              "      <td>...</td>\n",
              "      <td>...</td>\n",
              "      <td>...</td>\n",
              "      <td>...</td>\n",
              "      <td>...</td>\n",
              "      <td>...</td>\n",
              "      <td>...</td>\n",
              "      <td>...</td>\n",
              "    </tr>\n",
              "    <tr>\n",
              "      <th>466280</th>\n",
              "      <td>8598660</td>\n",
              "      <td>1440975</td>\n",
              "      <td>18400</td>\n",
              "      <td>18400</td>\n",
              "      <td>18400.0</td>\n",
              "      <td>60 months</td>\n",
              "      <td>14.47</td>\n",
              "      <td>432.64</td>\n",
              "      <td>C</td>\n",
              "      <td>C2</td>\n",
              "      <td>...</td>\n",
              "      <td>NaN</td>\n",
              "      <td>NaN</td>\n",
              "      <td>NaN</td>\n",
              "      <td>NaN</td>\n",
              "      <td>NaN</td>\n",
              "      <td>NaN</td>\n",
              "      <td>29900.0</td>\n",
              "      <td>NaN</td>\n",
              "      <td>NaN</td>\n",
              "      <td>NaN</td>\n",
              "    </tr>\n",
              "    <tr>\n",
              "      <th>466281</th>\n",
              "      <td>9684700</td>\n",
              "      <td>11536848</td>\n",
              "      <td>22000</td>\n",
              "      <td>22000</td>\n",
              "      <td>22000.0</td>\n",
              "      <td>60 months</td>\n",
              "      <td>19.97</td>\n",
              "      <td>582.50</td>\n",
              "      <td>D</td>\n",
              "      <td>D5</td>\n",
              "      <td>...</td>\n",
              "      <td>NaN</td>\n",
              "      <td>NaN</td>\n",
              "      <td>NaN</td>\n",
              "      <td>NaN</td>\n",
              "      <td>NaN</td>\n",
              "      <td>NaN</td>\n",
              "      <td>39400.0</td>\n",
              "      <td>NaN</td>\n",
              "      <td>NaN</td>\n",
              "      <td>NaN</td>\n",
              "    </tr>\n",
              "    <tr>\n",
              "      <th>466282</th>\n",
              "      <td>9584776</td>\n",
              "      <td>11436914</td>\n",
              "      <td>20700</td>\n",
              "      <td>20700</td>\n",
              "      <td>20700.0</td>\n",
              "      <td>60 months</td>\n",
              "      <td>16.99</td>\n",
              "      <td>514.34</td>\n",
              "      <td>D</td>\n",
              "      <td>D1</td>\n",
              "      <td>...</td>\n",
              "      <td>NaN</td>\n",
              "      <td>NaN</td>\n",
              "      <td>NaN</td>\n",
              "      <td>NaN</td>\n",
              "      <td>NaN</td>\n",
              "      <td>NaN</td>\n",
              "      <td>13100.0</td>\n",
              "      <td>NaN</td>\n",
              "      <td>NaN</td>\n",
              "      <td>NaN</td>\n",
              "    </tr>\n",
              "    <tr>\n",
              "      <th>466283</th>\n",
              "      <td>9604874</td>\n",
              "      <td>11457002</td>\n",
              "      <td>2000</td>\n",
              "      <td>2000</td>\n",
              "      <td>2000.0</td>\n",
              "      <td>36 months</td>\n",
              "      <td>7.90</td>\n",
              "      <td>62.59</td>\n",
              "      <td>A</td>\n",
              "      <td>A4</td>\n",
              "      <td>...</td>\n",
              "      <td>NaN</td>\n",
              "      <td>NaN</td>\n",
              "      <td>NaN</td>\n",
              "      <td>NaN</td>\n",
              "      <td>NaN</td>\n",
              "      <td>NaN</td>\n",
              "      <td>53100.0</td>\n",
              "      <td>NaN</td>\n",
              "      <td>NaN</td>\n",
              "      <td>NaN</td>\n",
              "    </tr>\n",
              "    <tr>\n",
              "      <th>466284</th>\n",
              "      <td>9199665</td>\n",
              "      <td>11061576</td>\n",
              "      <td>10000</td>\n",
              "      <td>10000</td>\n",
              "      <td>9975.0</td>\n",
              "      <td>36 months</td>\n",
              "      <td>19.20</td>\n",
              "      <td>367.58</td>\n",
              "      <td>D</td>\n",
              "      <td>D3</td>\n",
              "      <td>...</td>\n",
              "      <td>NaN</td>\n",
              "      <td>NaN</td>\n",
              "      <td>NaN</td>\n",
              "      <td>NaN</td>\n",
              "      <td>NaN</td>\n",
              "      <td>NaN</td>\n",
              "      <td>16000.0</td>\n",
              "      <td>NaN</td>\n",
              "      <td>NaN</td>\n",
              "      <td>NaN</td>\n",
              "    </tr>\n",
              "  </tbody>\n",
              "</table>\n",
              "<p>466285 rows × 74 columns</p>\n",
              "</div>\n",
              "      <button class=\"colab-df-convert\" onclick=\"convertToInteractive('df-e2620342-135f-4aa8-8de7-7626a35e4e28')\"\n",
              "              title=\"Convert this dataframe to an interactive table.\"\n",
              "              style=\"display:none;\">\n",
              "        \n",
              "  <svg xmlns=\"http://www.w3.org/2000/svg\" height=\"24px\"viewBox=\"0 0 24 24\"\n",
              "       width=\"24px\">\n",
              "    <path d=\"M0 0h24v24H0V0z\" fill=\"none\"/>\n",
              "    <path d=\"M18.56 5.44l.94 2.06.94-2.06 2.06-.94-2.06-.94-.94-2.06-.94 2.06-2.06.94zm-11 1L8.5 8.5l.94-2.06 2.06-.94-2.06-.94L8.5 2.5l-.94 2.06-2.06.94zm10 10l.94 2.06.94-2.06 2.06-.94-2.06-.94-.94-2.06-.94 2.06-2.06.94z\"/><path d=\"M17.41 7.96l-1.37-1.37c-.4-.4-.92-.59-1.43-.59-.52 0-1.04.2-1.43.59L10.3 9.45l-7.72 7.72c-.78.78-.78 2.05 0 2.83L4 21.41c.39.39.9.59 1.41.59.51 0 1.02-.2 1.41-.59l7.78-7.78 2.81-2.81c.8-.78.8-2.07 0-2.86zM5.41 20L4 18.59l7.72-7.72 1.47 1.35L5.41 20z\"/>\n",
              "  </svg>\n",
              "      </button>\n",
              "      \n",
              "  <style>\n",
              "    .colab-df-container {\n",
              "      display:flex;\n",
              "      flex-wrap:wrap;\n",
              "      gap: 12px;\n",
              "    }\n",
              "\n",
              "    .colab-df-convert {\n",
              "      background-color: #E8F0FE;\n",
              "      border: none;\n",
              "      border-radius: 50%;\n",
              "      cursor: pointer;\n",
              "      display: none;\n",
              "      fill: #1967D2;\n",
              "      height: 32px;\n",
              "      padding: 0 0 0 0;\n",
              "      width: 32px;\n",
              "    }\n",
              "\n",
              "    .colab-df-convert:hover {\n",
              "      background-color: #E2EBFA;\n",
              "      box-shadow: 0px 1px 2px rgba(60, 64, 67, 0.3), 0px 1px 3px 1px rgba(60, 64, 67, 0.15);\n",
              "      fill: #174EA6;\n",
              "    }\n",
              "\n",
              "    [theme=dark] .colab-df-convert {\n",
              "      background-color: #3B4455;\n",
              "      fill: #D2E3FC;\n",
              "    }\n",
              "\n",
              "    [theme=dark] .colab-df-convert:hover {\n",
              "      background-color: #434B5C;\n",
              "      box-shadow: 0px 1px 3px 1px rgba(0, 0, 0, 0.15);\n",
              "      filter: drop-shadow(0px 1px 2px rgba(0, 0, 0, 0.3));\n",
              "      fill: #FFFFFF;\n",
              "    }\n",
              "  </style>\n",
              "\n",
              "      <script>\n",
              "        const buttonEl =\n",
              "          document.querySelector('#df-e2620342-135f-4aa8-8de7-7626a35e4e28 button.colab-df-convert');\n",
              "        buttonEl.style.display =\n",
              "          google.colab.kernel.accessAllowed ? 'block' : 'none';\n",
              "\n",
              "        async function convertToInteractive(key) {\n",
              "          const element = document.querySelector('#df-e2620342-135f-4aa8-8de7-7626a35e4e28');\n",
              "          const dataTable =\n",
              "            await google.colab.kernel.invokeFunction('convertToInteractive',\n",
              "                                                     [key], {});\n",
              "          if (!dataTable) return;\n",
              "\n",
              "          const docLinkHtml = 'Like what you see? Visit the ' +\n",
              "            '<a target=\"_blank\" href=https://colab.research.google.com/notebooks/data_table.ipynb>data table notebook</a>'\n",
              "            + ' to learn more about interactive tables.';\n",
              "          element.innerHTML = '';\n",
              "          dataTable['output_type'] = 'display_data';\n",
              "          await google.colab.output.renderOutput(dataTable, element);\n",
              "          const docLink = document.createElement('div');\n",
              "          docLink.innerHTML = docLinkHtml;\n",
              "          element.appendChild(docLink);\n",
              "        }\n",
              "      </script>\n",
              "    </div>\n",
              "  </div>\n",
              "  "
            ]
          },
          "metadata": {},
          "execution_count": 2
        }
      ]
    },
    {
      "cell_type": "code",
      "source": [
        "df.info()"
      ],
      "metadata": {
        "colab": {
          "base_uri": "https://localhost:8080/"
        },
        "id": "mjXk23Ee6k94",
        "outputId": "97ec99c7-74b3-44e0-f864-d55b6fbf45a5"
      },
      "execution_count": 3,
      "outputs": [
        {
          "output_type": "stream",
          "name": "stdout",
          "text": [
            "<class 'pandas.core.frame.DataFrame'>\n",
            "RangeIndex: 466285 entries, 0 to 466284\n",
            "Data columns (total 74 columns):\n",
            " #   Column                       Non-Null Count   Dtype  \n",
            "---  ------                       --------------   -----  \n",
            " 0   id                           466285 non-null  int64  \n",
            " 1   member_id                    466285 non-null  int64  \n",
            " 2   loan_amnt                    466285 non-null  int64  \n",
            " 3   funded_amnt                  466285 non-null  int64  \n",
            " 4   funded_amnt_inv              466285 non-null  float64\n",
            " 5   term                         466285 non-null  object \n",
            " 6   int_rate                     466285 non-null  float64\n",
            " 7   installment                  466285 non-null  float64\n",
            " 8   grade                        466285 non-null  object \n",
            " 9   sub_grade                    466285 non-null  object \n",
            " 10  emp_title                    438697 non-null  object \n",
            " 11  emp_length                   445277 non-null  object \n",
            " 12  home_ownership               466285 non-null  object \n",
            " 13  annual_inc                   466281 non-null  float64\n",
            " 14  verification_status          466285 non-null  object \n",
            " 15  issue_d                      466285 non-null  object \n",
            " 16  loan_status                  466285 non-null  object \n",
            " 17  pymnt_plan                   466285 non-null  object \n",
            " 18  url                          466285 non-null  object \n",
            " 19  desc                         125983 non-null  object \n",
            " 20  purpose                      466285 non-null  object \n",
            " 21  title                        466265 non-null  object \n",
            " 22  zip_code                     466285 non-null  object \n",
            " 23  addr_state                   466285 non-null  object \n",
            " 24  dti                          466285 non-null  float64\n",
            " 25  delinq_2yrs                  466256 non-null  float64\n",
            " 26  earliest_cr_line             466256 non-null  object \n",
            " 27  inq_last_6mths               466256 non-null  float64\n",
            " 28  mths_since_last_delinq       215934 non-null  float64\n",
            " 29  mths_since_last_record       62638 non-null   float64\n",
            " 30  open_acc                     466256 non-null  float64\n",
            " 31  pub_rec                      466256 non-null  float64\n",
            " 32  revol_bal                    466285 non-null  int64  \n",
            " 33  revol_util                   465945 non-null  float64\n",
            " 34  total_acc                    466256 non-null  float64\n",
            " 35  initial_list_status          466285 non-null  object \n",
            " 36  out_prncp                    466285 non-null  float64\n",
            " 37  out_prncp_inv                466285 non-null  float64\n",
            " 38  total_pymnt                  466285 non-null  float64\n",
            " 39  total_pymnt_inv              466285 non-null  float64\n",
            " 40  total_rec_prncp              466285 non-null  float64\n",
            " 41  total_rec_int                466285 non-null  float64\n",
            " 42  total_rec_late_fee           466285 non-null  float64\n",
            " 43  recoveries                   466285 non-null  float64\n",
            " 44  collection_recovery_fee      466285 non-null  float64\n",
            " 45  last_pymnt_d                 465909 non-null  object \n",
            " 46  last_pymnt_amnt              466285 non-null  float64\n",
            " 47  next_pymnt_d                 239071 non-null  object \n",
            " 48  last_credit_pull_d           466243 non-null  object \n",
            " 49  collections_12_mths_ex_med   466140 non-null  float64\n",
            " 50  mths_since_last_major_derog  98974 non-null   float64\n",
            " 51  policy_code                  466285 non-null  int64  \n",
            " 52  application_type             466285 non-null  object \n",
            " 53  annual_inc_joint             0 non-null       float64\n",
            " 54  dti_joint                    0 non-null       float64\n",
            " 55  verification_status_joint    0 non-null       float64\n",
            " 56  acc_now_delinq               466256 non-null  float64\n",
            " 57  tot_coll_amt                 396009 non-null  float64\n",
            " 58  tot_cur_bal                  396009 non-null  float64\n",
            " 59  open_acc_6m                  0 non-null       float64\n",
            " 60  open_il_6m                   0 non-null       float64\n",
            " 61  open_il_12m                  0 non-null       float64\n",
            " 62  open_il_24m                  0 non-null       float64\n",
            " 63  mths_since_rcnt_il           0 non-null       float64\n",
            " 64  total_bal_il                 0 non-null       float64\n",
            " 65  il_util                      0 non-null       float64\n",
            " 66  open_rv_12m                  0 non-null       float64\n",
            " 67  open_rv_24m                  0 non-null       float64\n",
            " 68  max_bal_bc                   0 non-null       float64\n",
            " 69  all_util                     0 non-null       float64\n",
            " 70  total_rev_hi_lim             396009 non-null  float64\n",
            " 71  inq_fi                       0 non-null       float64\n",
            " 72  total_cu_tl                  0 non-null       float64\n",
            " 73  inq_last_12m                 0 non-null       float64\n",
            "dtypes: float64(46), int64(6), object(22)\n",
            "memory usage: 263.3+ MB\n"
          ]
        }
      ]
    },
    {
      "cell_type": "code",
      "source": [
        "df = df.dropna(axis=1, how=\"all\")\n",
        "print(\"Remaining columns info:\")\n",
        "print(df.info())"
      ],
      "metadata": {
        "colab": {
          "base_uri": "https://localhost:8080/"
        },
        "id": "T8fQCAAr1Afc",
        "outputId": "db537067-c5f6-4f63-b6fb-a30903e208bc"
      },
      "execution_count": 4,
      "outputs": [
        {
          "output_type": "stream",
          "name": "stdout",
          "text": [
            "Remaining columns info:\n",
            "<class 'pandas.core.frame.DataFrame'>\n",
            "RangeIndex: 466285 entries, 0 to 466284\n",
            "Data columns (total 57 columns):\n",
            " #   Column                       Non-Null Count   Dtype  \n",
            "---  ------                       --------------   -----  \n",
            " 0   id                           466285 non-null  int64  \n",
            " 1   member_id                    466285 non-null  int64  \n",
            " 2   loan_amnt                    466285 non-null  int64  \n",
            " 3   funded_amnt                  466285 non-null  int64  \n",
            " 4   funded_amnt_inv              466285 non-null  float64\n",
            " 5   term                         466285 non-null  object \n",
            " 6   int_rate                     466285 non-null  float64\n",
            " 7   installment                  466285 non-null  float64\n",
            " 8   grade                        466285 non-null  object \n",
            " 9   sub_grade                    466285 non-null  object \n",
            " 10  emp_title                    438697 non-null  object \n",
            " 11  emp_length                   445277 non-null  object \n",
            " 12  home_ownership               466285 non-null  object \n",
            " 13  annual_inc                   466281 non-null  float64\n",
            " 14  verification_status          466285 non-null  object \n",
            " 15  issue_d                      466285 non-null  object \n",
            " 16  loan_status                  466285 non-null  object \n",
            " 17  pymnt_plan                   466285 non-null  object \n",
            " 18  url                          466285 non-null  object \n",
            " 19  desc                         125983 non-null  object \n",
            " 20  purpose                      466285 non-null  object \n",
            " 21  title                        466265 non-null  object \n",
            " 22  zip_code                     466285 non-null  object \n",
            " 23  addr_state                   466285 non-null  object \n",
            " 24  dti                          466285 non-null  float64\n",
            " 25  delinq_2yrs                  466256 non-null  float64\n",
            " 26  earliest_cr_line             466256 non-null  object \n",
            " 27  inq_last_6mths               466256 non-null  float64\n",
            " 28  mths_since_last_delinq       215934 non-null  float64\n",
            " 29  mths_since_last_record       62638 non-null   float64\n",
            " 30  open_acc                     466256 non-null  float64\n",
            " 31  pub_rec                      466256 non-null  float64\n",
            " 32  revol_bal                    466285 non-null  int64  \n",
            " 33  revol_util                   465945 non-null  float64\n",
            " 34  total_acc                    466256 non-null  float64\n",
            " 35  initial_list_status          466285 non-null  object \n",
            " 36  out_prncp                    466285 non-null  float64\n",
            " 37  out_prncp_inv                466285 non-null  float64\n",
            " 38  total_pymnt                  466285 non-null  float64\n",
            " 39  total_pymnt_inv              466285 non-null  float64\n",
            " 40  total_rec_prncp              466285 non-null  float64\n",
            " 41  total_rec_int                466285 non-null  float64\n",
            " 42  total_rec_late_fee           466285 non-null  float64\n",
            " 43  recoveries                   466285 non-null  float64\n",
            " 44  collection_recovery_fee      466285 non-null  float64\n",
            " 45  last_pymnt_d                 465909 non-null  object \n",
            " 46  last_pymnt_amnt              466285 non-null  float64\n",
            " 47  next_pymnt_d                 239071 non-null  object \n",
            " 48  last_credit_pull_d           466243 non-null  object \n",
            " 49  collections_12_mths_ex_med   466140 non-null  float64\n",
            " 50  mths_since_last_major_derog  98974 non-null   float64\n",
            " 51  policy_code                  466285 non-null  int64  \n",
            " 52  application_type             466285 non-null  object \n",
            " 53  acc_now_delinq               466256 non-null  float64\n",
            " 54  tot_coll_amt                 396009 non-null  float64\n",
            " 55  tot_cur_bal                  396009 non-null  float64\n",
            " 56  total_rev_hi_lim             396009 non-null  float64\n",
            "dtypes: float64(29), int64(6), object(22)\n",
            "memory usage: 202.8+ MB\n",
            "None\n"
          ]
        }
      ]
    },
    {
      "cell_type": "code",
      "source": [
        "df['loan_status'].value_counts()"
      ],
      "metadata": {
        "colab": {
          "base_uri": "https://localhost:8080/"
        },
        "id": "9wxa-OpfE3Yb",
        "outputId": "bd717ef8-1dab-416c-cfd3-c70232613879"
      },
      "execution_count": 5,
      "outputs": [
        {
          "output_type": "execute_result",
          "data": {
            "text/plain": [
              "Current                                                224226\n",
              "Fully Paid                                             184739\n",
              "Charged Off                                             42475\n",
              "Late (31-120 days)                                       6900\n",
              "In Grace Period                                          3146\n",
              "Does not meet the credit policy. Status:Fully Paid       1988\n",
              "Late (16-30 days)                                        1218\n",
              "Default                                                   832\n",
              "Does not meet the credit policy. Status:Charged Off       761\n",
              "Name: loan_status, dtype: int64"
            ]
          },
          "metadata": {},
          "execution_count": 5
        }
      ]
    },
    {
      "cell_type": "code",
      "source": [
        "df = df.loc[df['loan_status'].isin(['Fully Paid', 'Charged Off'])]"
      ],
      "metadata": {
        "id": "RdTiIzlKr2lZ"
      },
      "execution_count": 6,
      "outputs": []
    },
    {
      "cell_type": "code",
      "source": [
        "df.shape"
      ],
      "metadata": {
        "colab": {
          "base_uri": "https://localhost:8080/"
        },
        "id": "RhPK81jyr2nw",
        "outputId": "39b0cff7-4093-4632-de8d-abeca2d83485"
      },
      "execution_count": 7,
      "outputs": [
        {
          "output_type": "execute_result",
          "data": {
            "text/plain": [
              "(227214, 57)"
            ]
          },
          "metadata": {},
          "execution_count": 7
        }
      ]
    },
    {
      "cell_type": "code",
      "source": [
        "df['loan_status'].value_counts(dropna=False)"
      ],
      "metadata": {
        "colab": {
          "base_uri": "https://localhost:8080/"
        },
        "id": "MN-LDi6sr2p5",
        "outputId": "b062c7f3-9478-4b68-aa23-fd830f3adf01"
      },
      "execution_count": 8,
      "outputs": [
        {
          "output_type": "execute_result",
          "data": {
            "text/plain": [
              "Fully Paid     184739\n",
              "Charged Off     42475\n",
              "Name: loan_status, dtype: int64"
            ]
          },
          "metadata": {},
          "execution_count": 8
        }
      ]
    },
    {
      "cell_type": "code",
      "source": [
        "df['loan_status'].value_counts(normalize=True, dropna=False)"
      ],
      "metadata": {
        "colab": {
          "base_uri": "https://localhost:8080/"
        },
        "id": "CHf6mNZmsKFw",
        "outputId": "0fe755b0-bcd6-4c8e-98bb-51a5e67e54bb"
      },
      "execution_count": 9,
      "outputs": [
        {
          "output_type": "execute_result",
          "data": {
            "text/plain": [
              "Fully Paid     0.813062\n",
              "Charged Off    0.186938\n",
              "Name: loan_status, dtype: float64"
            ]
          },
          "metadata": {},
          "execution_count": 9
        }
      ]
    },
    {
      "cell_type": "code",
      "source": [
        "# plt.figure(figsize=(16, 12))\n",
        "# sns.heatmap(df.corr(), annot=True, cmap='viridis')"
      ],
      "metadata": {
        "id": "4LIeXRUACQDF"
      },
      "execution_count": 10,
      "outputs": []
    },
    {
      "cell_type": "code",
      "source": [
        "# dropcols = []\n",
        "# df.drop(dropcols, axis=1, inplace=True)\n",
        "# df.info()"
      ],
      "metadata": {
        "id": "9EFOYgTErNc5"
      },
      "execution_count": 11,
      "outputs": []
    },
    {
      "cell_type": "code",
      "source": [
        "df.columns"
      ],
      "metadata": {
        "colab": {
          "base_uri": "https://localhost:8080/"
        },
        "id": "q6F8th2wdLPS",
        "outputId": "ed014ab2-c199-4359-af11-98f852cc5e0d"
      },
      "execution_count": 12,
      "outputs": [
        {
          "output_type": "execute_result",
          "data": {
            "text/plain": [
              "Index(['id', 'member_id', 'loan_amnt', 'funded_amnt', 'funded_amnt_inv',\n",
              "       'term', 'int_rate', 'installment', 'grade', 'sub_grade', 'emp_title',\n",
              "       'emp_length', 'home_ownership', 'annual_inc', 'verification_status',\n",
              "       'issue_d', 'loan_status', 'pymnt_plan', 'url', 'desc', 'purpose',\n",
              "       'title', 'zip_code', 'addr_state', 'dti', 'delinq_2yrs',\n",
              "       'earliest_cr_line', 'inq_last_6mths', 'mths_since_last_delinq',\n",
              "       'mths_since_last_record', 'open_acc', 'pub_rec', 'revol_bal',\n",
              "       'revol_util', 'total_acc', 'initial_list_status', 'out_prncp',\n",
              "       'out_prncp_inv', 'total_pymnt', 'total_pymnt_inv', 'total_rec_prncp',\n",
              "       'total_rec_int', 'total_rec_late_fee', 'recoveries',\n",
              "       'collection_recovery_fee', 'last_pymnt_d', 'last_pymnt_amnt',\n",
              "       'next_pymnt_d', 'last_credit_pull_d', 'collections_12_mths_ex_med',\n",
              "       'mths_since_last_major_derog', 'policy_code', 'application_type',\n",
              "       'acc_now_delinq', 'tot_coll_amt', 'tot_cur_bal', 'total_rev_hi_lim'],\n",
              "      dtype='object')"
            ]
          },
          "metadata": {},
          "execution_count": 12
        }
      ]
    },
    {
      "cell_type": "markdown",
      "source": [
        "Missing"
      ],
      "metadata": {
        "id": "k_ZYIWqtsT2z"
      }
    },
    {
      "cell_type": "code",
      "source": [
        "missing_fractions = df.isnull().mean().sort_values(ascending=False)"
      ],
      "metadata": {
        "id": "mLj8jCR2sKRD"
      },
      "execution_count": 13,
      "outputs": []
    },
    {
      "cell_type": "code",
      "source": [
        "missing_fractions.head(10)"
      ],
      "metadata": {
        "id": "QTLpaj3ksKcT",
        "colab": {
          "base_uri": "https://localhost:8080/"
        },
        "outputId": "00840fa6-c10b-48cc-c16f-2927452ef324"
      },
      "execution_count": 14,
      "outputs": [
        {
          "output_type": "execute_result",
          "data": {
            "text/plain": [
              "next_pymnt_d                   1.000000\n",
              "mths_since_last_record         0.882732\n",
              "mths_since_last_major_derog    0.823875\n",
              "desc                           0.611314\n",
              "mths_since_last_delinq         0.563605\n",
              "tot_cur_bal                    0.280388\n",
              "tot_coll_amt                   0.280388\n",
              "total_rev_hi_lim               0.280388\n",
              "emp_title                      0.055908\n",
              "emp_length                     0.038171\n",
              "dtype: float64"
            ]
          },
          "metadata": {},
          "execution_count": 14
        }
      ]
    },
    {
      "cell_type": "code",
      "source": [
        "plt.figure(figsize=(6,3), dpi=90)\n",
        "missing_fractions.plot.hist(bins=20)\n",
        "plt.title('Histogram of Feature Incompleteness')\n",
        "plt.xlabel('Fraction of data missing')\n",
        "plt.ylabel('Feature count')\n"
      ],
      "metadata": {
        "id": "F7PAWQzLsHeB",
        "colab": {
          "base_uri": "https://localhost:8080/",
          "height": 315
        },
        "outputId": "e2163514-0568-4e09-9e88-f43d89a9da2d"
      },
      "execution_count": 15,
      "outputs": [
        {
          "output_type": "execute_result",
          "data": {
            "text/plain": [
              "Text(0, 0.5, 'Feature count')"
            ]
          },
          "metadata": {},
          "execution_count": 15
        },
        {
          "output_type": "display_data",
          "data": {
            "text/plain": [
              "<Figure size 540x270 with 1 Axes>"
            ],
            "image/png": "[encoded data removed]"
          },
          "metadata": {
            "needs_background": "light"
          }
        }
      ]
    },
    {
      "cell_type": "code",
      "source": [
        "# Drop column with condition\n",
        "drop_list = sorted(list(missing_fractions[missing_fractions > 0.4].index))\n",
        "print(drop_list)"
      ],
      "metadata": {
        "id": "ODt48ESZmuX2",
        "colab": {
          "base_uri": "https://localhost:8080/"
        },
        "outputId": "c3714ac4-54b3-41fe-edfd-b619a065605e"
      },
      "execution_count": 16,
      "outputs": [
        {
          "output_type": "stream",
          "name": "stdout",
          "text": [
            "['desc', 'mths_since_last_delinq', 'mths_since_last_major_derog', 'mths_since_last_record', 'next_pymnt_d']\n"
          ]
        }
      ]
    },
    {
      "cell_type": "code",
      "source": [
        "len(drop_list)"
      ],
      "metadata": {
        "colab": {
          "base_uri": "https://localhost:8080/"
        },
        "id": "XhDcchkJWDgf",
        "outputId": "2658aacf-1a40-408d-d135-5b9e99b16fb8"
      },
      "execution_count": 17,
      "outputs": [
        {
          "output_type": "execute_result",
          "data": {
            "text/plain": [
              "5"
            ]
          },
          "metadata": {},
          "execution_count": 17
        }
      ]
    },
    {
      "cell_type": "code",
      "source": [
        "df.drop(labels=drop_list, axis=1, inplace=True)"
      ],
      "metadata": {
        "id": "bOn6Q0ZYWEkH"
      },
      "execution_count": 18,
      "outputs": []
    },
    {
      "cell_type": "code",
      "source": [
        "print(sorted(df.columns))\n",
        "print(df.shape)"
      ],
      "metadata": {
        "colab": {
          "base_uri": "https://localhost:8080/"
        },
        "id": "JqeyXMTDWGw-",
        "outputId": "aeaa1c7d-01d7-49fb-c91f-8d59185fa10d"
      },
      "execution_count": 19,
      "outputs": [
        {
          "output_type": "stream",
          "name": "stdout",
          "text": [
            "['acc_now_delinq', 'addr_state', 'annual_inc', 'application_type', 'collection_recovery_fee', 'collections_12_mths_ex_med', 'delinq_2yrs', 'dti', 'earliest_cr_line', 'emp_length', 'emp_title', 'funded_amnt', 'funded_amnt_inv', 'grade', 'home_ownership', 'id', 'initial_list_status', 'inq_last_6mths', 'installment', 'int_rate', 'issue_d', 'last_credit_pull_d', 'last_pymnt_amnt', 'last_pymnt_d', 'loan_amnt', 'loan_status', 'member_id', 'open_acc', 'out_prncp', 'out_prncp_inv', 'policy_code', 'pub_rec', 'purpose', 'pymnt_plan', 'recoveries', 'revol_bal', 'revol_util', 'sub_grade', 'term', 'title', 'tot_coll_amt', 'tot_cur_bal', 'total_acc', 'total_pymnt', 'total_pymnt_inv', 'total_rec_int', 'total_rec_late_fee', 'total_rec_prncp', 'total_rev_hi_lim', 'url', 'verification_status', 'zip_code']\n",
            "(227214, 52)\n"
          ]
        }
      ]
    },
    {
      "cell_type": "code",
      "source": [
        "keep_list = ['addr_state', 'annual_inc', 'application_type', 'dti', 'earliest_cr_line', 'emp_length', 'emp_title', 'fico_range_high', 'fico_range_low', 'grade', 'home_ownership', 'id', 'initial_list_status', 'installment', 'int_rate', 'issue_d', 'loan_amnt', 'loan_status', 'mort_acc', 'open_acc', 'pub_rec', 'pub_rec_bankruptcies', 'purpose', 'revol_bal', 'revol_util', 'sub_grade', 'term', 'title', 'total_acc', 'verification_status', 'zip_code']\n",
        "len(keep_list)"
      ],
      "metadata": {
        "colab": {
          "base_uri": "https://localhost:8080/"
        },
        "id": "Kcdp2vHIdZEK",
        "outputId": "489b74d1-83b0-49eb-fc0f-d304a07a45f4"
      },
      "execution_count": 20,
      "outputs": [
        {
          "output_type": "execute_result",
          "data": {
            "text/plain": [
              "31"
            ]
          },
          "metadata": {},
          "execution_count": 20
        }
      ]
    },
    {
      "cell_type": "code",
      "source": [
        "drop_list = [col for col in df.columns if col not in keep_list]\n",
        "print(drop_list)"
      ],
      "metadata": {
        "colab": {
          "base_uri": "https://localhost:8080/"
        },
        "id": "wMP13MOVdcRx",
        "outputId": "da9c51b0-f775-4036-8248-3f6b7be92490"
      },
      "execution_count": 21,
      "outputs": [
        {
          "output_type": "stream",
          "name": "stdout",
          "text": [
            "['member_id', 'funded_amnt', 'funded_amnt_inv', 'pymnt_plan', 'url', 'delinq_2yrs', 'inq_last_6mths', 'out_prncp', 'out_prncp_inv', 'total_pymnt', 'total_pymnt_inv', 'total_rec_prncp', 'total_rec_int', 'total_rec_late_fee', 'recoveries', 'collection_recovery_fee', 'last_pymnt_d', 'last_pymnt_amnt', 'last_credit_pull_d', 'collections_12_mths_ex_med', 'policy_code', 'acc_now_delinq', 'tot_coll_amt', 'tot_cur_bal', 'total_rev_hi_lim']\n"
          ]
        }
      ]
    },
    {
      "cell_type": "code",
      "source": [
        "len(drop_list)"
      ],
      "metadata": {
        "colab": {
          "base_uri": "https://localhost:8080/"
        },
        "id": "6lUZPWM1dvAs",
        "outputId": "73f6ce16-5594-4bf2-e118-acae605ce8e1"
      },
      "execution_count": 22,
      "outputs": [
        {
          "output_type": "execute_result",
          "data": {
            "text/plain": [
              "25"
            ]
          },
          "metadata": {},
          "execution_count": 22
        }
      ]
    },
    {
      "cell_type": "code",
      "source": [
        "df.drop(labels=drop_list, axis=1, inplace=True)"
      ],
      "metadata": {
        "id": "wLzQC_WOdxFa"
      },
      "execution_count": 23,
      "outputs": []
    },
    {
      "cell_type": "code",
      "source": [
        "df.shape"
      ],
      "metadata": {
        "colab": {
          "base_uri": "https://localhost:8080/"
        },
        "id": "BuO98depdxTC",
        "outputId": "78aef297-c536-4dd7-8fc1-dd90447c1a94"
      },
      "execution_count": 24,
      "outputs": [
        {
          "output_type": "execute_result",
          "data": {
            "text/plain": [
              "(227214, 27)"
            ]
          },
          "metadata": {},
          "execution_count": 24
        }
      ]
    },
    {
      "cell_type": "markdown",
      "source": [
        "## Exploratory Data Analysis"
      ],
      "metadata": {
        "id": "QPYpx5xxeIH0"
      }
    },
    {
      "cell_type": "code",
      "source": [
        "sns.set(style=\"whitegrid\", font_scale=1)\n",
        "\n",
        "plt.figure(figsize=(12,12))\n",
        "plt.title('Pearson Correlation Matrix',fontsize=25)\n",
        "sns.heatmap(df.corr(),linewidths=0.25,vmax=0.7,square=True,cmap=\"GnBu\",linecolor='w',\n",
        "            annot=True, annot_kws={\"size\":10}, cbar_kws={\"shrink\": .7})"
      ],
      "metadata": {
        "colab": {
          "base_uri": "https://localhost:8080/",
          "height": 680
        },
        "id": "wv3ufMWWeHp3",
        "outputId": "1cc05fa1-be55-49f1-93d3-d9c74b094f2e"
      },
      "execution_count": 25,
      "outputs": [
        {
          "output_type": "execute_result",
          "data": {
            "text/plain": [
              "<matplotlib.axes._subplots.AxesSubplot at 0x7f3000adcd90>"
            ]
          },
          "metadata": {},
          "execution_count": 25
        },
        {
          "output_type": "display_data",
          "data": {
            "text/plain": [
              "<Figure size 864x864 with 2 Axes>"
            ],
            "image/png": "[encoded data removed]"
          },
          "metadata": {}
        }
      ]
    },
    {
      "cell_type": "code",
      "source": [
        "f, axes = plt.subplots(1, 2, figsize=(15,5))\n",
        "sns.countplot(x='loan_status', data=df, ax=axes[0])\n",
        "sns.distplot(df['loan_amnt'], kde=False, bins=40, ax=axes[1])\n",
        "sns.despine()\n",
        "axes[0].set(xlabel='Status', ylabel='')\n",
        "axes[0].set_title('Count of Loan Status', size=20)\n",
        "axes[1].set(xlabel='Loan Amount', ylabel='')\n",
        "axes[1].set_title('Loan Amount Distribution', size=20)"
      ],
      "metadata": {
        "colab": {
          "base_uri": "https://localhost:8080/",
          "height": 377
        },
        "id": "lcj4VdboeRPs",
        "outputId": "18112348-5cd8-4ad3-8100-5eee5bcd9eeb"
      },
      "execution_count": 26,
      "outputs": [
        {
          "output_type": "execute_result",
          "data": {
            "text/plain": [
              "Text(0.5, 1.0, 'Loan Amount Distribution')"
            ]
          },
          "metadata": {},
          "execution_count": 26
        },
        {
          "output_type": "display_data",
          "data": {
            "text/plain": [
              "<Figure size 1080x360 with 2 Axes>"
            ],
            "image/png": "[encoded data removed]"
          },
          "metadata": {}
        }
      ]
    },
    {
      "cell_type": "code",
      "source": [
        "f, axes = plt.subplots(1, 2, figsize=(15,5))\n",
        "sns.scatterplot(x='installment', y='loan_amnt', data=df, ax=axes[0])\n",
        "sns.boxplot(x='loan_status', y='loan_amnt', data=df, ax=axes[1])\n",
        "sns.despine()\n",
        "axes[0].set(xlabel='Installment', ylabel='Loan Amount')\n",
        "axes[0].set_title('Scatterplot between Loan Amount and Installment', size=15)\n",
        "axes[1].set(xlabel='Loan Status', ylabel='Loan Amount')\n",
        "axes[1].set_title('Boxplot between Loan Amount and Loan Status', size=15)"
      ],
      "metadata": {
        "colab": {
          "base_uri": "https://localhost:8080/",
          "height": 374
        },
        "id": "Yi7D0PVaeUVN",
        "outputId": "a5b16c44-9987-420d-aae1-84384eff75b0"
      },
      "execution_count": 27,
      "outputs": [
        {
          "output_type": "execute_result",
          "data": {
            "text/plain": [
              "Text(0.5, 1.0, 'Boxplot between Loan Amount and Loan Status')"
            ]
          },
          "metadata": {},
          "execution_count": 27
        },
        {
          "output_type": "display_data",
          "data": {
            "text/plain": [
              "<Figure size 1080x360 with 2 Axes>"
            ],
            "image/png": "[encoded data removed]"
          },
          "metadata": {}
        }
      ]
    },
    {
      "cell_type": "code",
      "source": [
        "df.groupby('loan_status')['loan_amnt'].describe()"
      ],
      "metadata": {
        "colab": {
          "base_uri": "https://localhost:8080/",
          "height": 143
        },
        "id": "XCGwR-5ueYkL",
        "outputId": "4ff3942d-e8c7-444c-df2e-9b169cc4a199"
      },
      "execution_count": 28,
      "outputs": [
        {
          "output_type": "execute_result",
          "data": {
            "text/plain": [
              "                count          mean          std    min     25%      50%  \\\n",
              "loan_status                                                                \n",
              "Charged Off   42475.0  14518.758682  8373.184813  900.0  8000.0  12600.0   \n",
              "Fully Paid   184739.0  13214.394226  7949.030252  500.0  7125.0  11800.0   \n",
              "\n",
              "                 75%      max  \n",
              "loan_status                    \n",
              "Charged Off  20000.0  35000.0  \n",
              "Fully Paid   18000.0  35000.0  "
            ],
            "text/html": [
              "\n",
              "  <div id=\"df-6a36a58d-2dd1-4833-a2a2-1e07d7e3500b\">\n",
              "    <div class=\"colab-df-container\">\n",
              "      <div>\n",
              "<style scoped>\n",
              "    .dataframe tbody tr th:only-of-type {\n",
              "        vertical-align: middle;\n",
              "    }\n",
              "\n",
              "    .dataframe tbody tr th {\n",
              "        vertical-align: top;\n",
              "    }\n",
              "\n",
              "    .dataframe thead th {\n",
              "        text-align: right;\n",
              "    }\n",
              "</style>\n",
              "<table border=\"1\" class=\"dataframe\">\n",
              "  <thead>\n",
              "    <tr style=\"text-align: right;\">\n",
              "      <th></th>\n",
              "      <th>count</th>\n",
              "      <th>mean</th>\n",
              "      <th>std</th>\n",
              "      <th>min</th>\n",
              "      <th>25%</th>\n",
              "      <th>50%</th>\n",
              "      <th>75%</th>\n",
              "      <th>max</th>\n",
              "    </tr>\n",
              "    <tr>\n",
              "      <th>loan_status</th>\n",
              "      <th></th>\n",
              "      <th></th>\n",
              "      <th></th>\n",
              "      <th></th>\n",
              "      <th></th>\n",
              "      <th></th>\n",
              "      <th></th>\n",
              "      <th></th>\n",
              "    </tr>\n",
              "  </thead>\n",
              "  <tbody>\n",
              "    <tr>\n",
              "      <th>Charged Off</th>\n",
              "      <td>42475.0</td>\n",
              "      <td>14518.758682</td>\n",
              "      <td>8373.184813</td>\n",
              "      <td>900.0</td>\n",
              "      <td>8000.0</td>\n",
              "      <td>12600.0</td>\n",
              "      <td>20000.0</td>\n",
              "      <td>35000.0</td>\n",
              "    </tr>\n",
              "    <tr>\n",
              "      <th>Fully Paid</th>\n",
              "      <td>184739.0</td>\n",
              "      <td>13214.394226</td>\n",
              "      <td>7949.030252</td>\n",
              "      <td>500.0</td>\n",
              "      <td>7125.0</td>\n",
              "      <td>11800.0</td>\n",
              "      <td>18000.0</td>\n",
              "      <td>35000.0</td>\n",
              "    </tr>\n",
              "  </tbody>\n",
              "</table>\n",
              "</div>\n",
              "      <button class=\"colab-df-convert\" onclick=\"convertToInteractive('df-6a36a58d-2dd1-4833-a2a2-1e07d7e3500b')\"\n",
              "              title=\"Convert this dataframe to an interactive table.\"\n",
              "              style=\"display:none;\">\n",
              "        \n",
              "  <svg xmlns=\"http://www.w3.org/2000/svg\" height=\"24px\"viewBox=\"0 0 24 24\"\n",
              "       width=\"24px\">\n",
              "    <path d=\"M0 0h24v24H0V0z\" fill=\"none\"/>\n",
              "    <path d=\"M18.56 5.44l.94 2.06.94-2.06 2.06-.94-2.06-.94-.94-2.06-.94 2.06-2.06.94zm-11 1L8.5 8.5l.94-2.06 2.06-.94-2.06-.94L8.5 2.5l-.94 2.06-2.06.94zm10 10l.94 2.06.94-2.06 2.06-.94-2.06-.94-.94-2.06-.94 2.06-2.06.94z\"/><path d=\"M17.41 7.96l-1.37-1.37c-.4-.4-.92-.59-1.43-.59-.52 0-1.04.2-1.43.59L10.3 9.45l-7.72 7.72c-.78.78-.78 2.05 0 2.83L4 21.41c.39.39.9.59 1.41.59.51 0 1.02-.2 1.41-.59l7.78-7.78 2.81-2.81c.8-.78.8-2.07 0-2.86zM5.41 20L4 18.59l7.72-7.72 1.47 1.35L5.41 20z\"/>\n",
              "  </svg>\n",
              "      </button>\n",
              "      \n",
              "  <style>\n",
              "    .colab-df-container {\n",
              "      display:flex;\n",
              "      flex-wrap:wrap;\n",
              "      gap: 12px;\n",
              "    }\n",
              "\n",
              "    .colab-df-convert {\n",
              "      background-color: #E8F0FE;\n",
              "      border: none;\n",
              "      border-radius: 50%;\n",
              "      cursor: pointer;\n",
              "      display: none;\n",
              "      fill: #1967D2;\n",
              "      height: 32px;\n",
              "      padding: 0 0 0 0;\n",
              "      width: 32px;\n",
              "    }\n",
              "\n",
              "    .colab-df-convert:hover {\n",
              "      background-color: #E2EBFA;\n",
              "      box-shadow: 0px 1px 2px rgba(60, 64, 67, 0.3), 0px 1px 3px 1px rgba(60, 64, 67, 0.15);\n",
              "      fill: #174EA6;\n",
              "    }\n",
              "\n",
              "    [theme=dark] .colab-df-convert {\n",
              "      background-color: #3B4455;\n",
              "      fill: #D2E3FC;\n",
              "    }\n",
              "\n",
              "    [theme=dark] .colab-df-convert:hover {\n",
              "      background-color: #434B5C;\n",
              "      box-shadow: 0px 1px 3px 1px rgba(0, 0, 0, 0.15);\n",
              "      filter: drop-shadow(0px 1px 2px rgba(0, 0, 0, 0.3));\n",
              "      fill: #FFFFFF;\n",
              "    }\n",
              "  </style>\n",
              "\n",
              "      <script>\n",
              "        const buttonEl =\n",
              "          document.querySelector('#df-6a36a58d-2dd1-4833-a2a2-1e07d7e3500b button.colab-df-convert');\n",
              "        buttonEl.style.display =\n",
              "          google.colab.kernel.accessAllowed ? 'block' : 'none';\n",
              "\n",
              "        async function convertToInteractive(key) {\n",
              "          const element = document.querySelector('#df-6a36a58d-2dd1-4833-a2a2-1e07d7e3500b');\n",
              "          const dataTable =\n",
              "            await google.colab.kernel.invokeFunction('convertToInteractive',\n",
              "                                                     [key], {});\n",
              "          if (!dataTable) return;\n",
              "\n",
              "          const docLinkHtml = 'Like what you see? Visit the ' +\n",
              "            '<a target=\"_blank\" href=https://colab.research.google.com/notebooks/data_table.ipynb>data table notebook</a>'\n",
              "            + ' to learn more about interactive tables.';\n",
              "          element.innerHTML = '';\n",
              "          dataTable['output_type'] = 'display_data';\n",
              "          await google.colab.output.renderOutput(dataTable, element);\n",
              "          const docLink = document.createElement('div');\n",
              "          docLink.innerHTML = docLinkHtml;\n",
              "          element.appendChild(docLink);\n",
              "        }\n",
              "      </script>\n",
              "    </div>\n",
              "  </div>\n",
              "  "
            ]
          },
          "metadata": {},
          "execution_count": 28
        }
      ]
    },
    {
      "cell_type": "code",
      "source": [
        "f, axes = plt.subplots(1, 2, figsize=(15,5), gridspec_kw={'width_ratios': [1, 2]})\n",
        "sns.countplot(x='grade', hue='loan_status', data=df, order=sorted(df['grade'].unique()), palette='seismic', ax=axes[0])\n",
        "sns.countplot(x='sub_grade', data=df, palette='seismic', order=sorted(df['sub_grade'].unique()), ax=axes[1])\n",
        "sns.despine()\n",
        "axes[0].set(xlabel='Grade', ylabel='Count')\n",
        "axes[0].set_title('Count of Loan Status per Grade', size=20)\n",
        "axes[1].set(xlabel='Sub Grade', ylabel='Count')\n",
        "axes[1].set_title('Count of Loan Status per Sub Grade', size=20)\n",
        "plt.tight_layout()"
      ],
      "metadata": {
        "colab": {
          "base_uri": "https://localhost:8080/",
          "height": 365
        },
        "id": "-WRVmTvyebzi",
        "outputId": "d283f4f5-78bc-4976-8f83-266b682b7e37"
      },
      "execution_count": 29,
      "outputs": [
        {
          "output_type": "display_data",
          "data": {
            "text/plain": [
              "<Figure size 1080x360 with 2 Axes>"
            ],
            "image/png": "[encoded data removed]"
          },
          "metadata": {}
        }
      ]
    },
    {
      "cell_type": "code",
      "source": [
        "df['loan_repaid'] = df['loan_status'].map({'Fully Paid':1,'Charged Off':0})\n",
        "df[['loan_repaid','loan_status']].head()"
      ],
      "metadata": {
        "colab": {
          "base_uri": "https://localhost:8080/",
          "height": 206
        },
        "id": "5gprrZFiecmf",
        "outputId": "a579f5c3-5697-451b-be9a-401517323d76"
      },
      "execution_count": 30,
      "outputs": [
        {
          "output_type": "execute_result",
          "data": {
            "text/plain": [
              "   loan_repaid  loan_status\n",
              "0            1   Fully Paid\n",
              "1            0  Charged Off\n",
              "2            1   Fully Paid\n",
              "3            1   Fully Paid\n",
              "5            1   Fully Paid"
            ],
            "text/html": [
              "\n",
              "  <div id=\"df-b75ab7a9-a5ac-4c48-bcf0-c734d0426d64\">\n",
              "    <div class=\"colab-df-container\">\n",
              "      <div>\n",
              "<style scoped>\n",
              "    .dataframe tbody tr th:only-of-type {\n",
              "        vertical-align: middle;\n",
              "    }\n",
              "\n",
              "    .dataframe tbody tr th {\n",
              "        vertical-align: top;\n",
              "    }\n",
              "\n",
              "    .dataframe thead th {\n",
              "        text-align: right;\n",
              "    }\n",
              "</style>\n",
              "<table border=\"1\" class=\"dataframe\">\n",
              "  <thead>\n",
              "    <tr style=\"text-align: right;\">\n",
              "      <th></th>\n",
              "      <th>loan_repaid</th>\n",
              "      <th>loan_status</th>\n",
              "    </tr>\n",
              "  </thead>\n",
              "  <tbody>\n",
              "    <tr>\n",
              "      <th>0</th>\n",
              "      <td>1</td>\n",
              "      <td>Fully Paid</td>\n",
              "    </tr>\n",
              "    <tr>\n",
              "      <th>1</th>\n",
              "      <td>0</td>\n",
              "      <td>Charged Off</td>\n",
              "    </tr>\n",
              "    <tr>\n",
              "      <th>2</th>\n",
              "      <td>1</td>\n",
              "      <td>Fully Paid</td>\n",
              "    </tr>\n",
              "    <tr>\n",
              "      <th>3</th>\n",
              "      <td>1</td>\n",
              "      <td>Fully Paid</td>\n",
              "    </tr>\n",
              "    <tr>\n",
              "      <th>5</th>\n",
              "      <td>1</td>\n",
              "      <td>Fully Paid</td>\n",
              "    </tr>\n",
              "  </tbody>\n",
              "</table>\n",
              "</div>\n",
              "      <button class=\"colab-df-convert\" onclick=\"convertToInteractive('df-b75ab7a9-a5ac-4c48-bcf0-c734d0426d64')\"\n",
              "              title=\"Convert this dataframe to an interactive table.\"\n",
              "              style=\"display:none;\">\n",
              "        \n",
              "  <svg xmlns=\"http://www.w3.org/2000/svg\" height=\"24px\"viewBox=\"0 0 24 24\"\n",
              "       width=\"24px\">\n",
              "    <path d=\"M0 0h24v24H0V0z\" fill=\"none\"/>\n",
              "    <path d=\"M18.56 5.44l.94 2.06.94-2.06 2.06-.94-2.06-.94-.94-2.06-.94 2.06-2.06.94zm-11 1L8.5 8.5l.94-2.06 2.06-.94-2.06-.94L8.5 2.5l-.94 2.06-2.06.94zm10 10l.94 2.06.94-2.06 2.06-.94-2.06-.94-.94-2.06-.94 2.06-2.06.94z\"/><path d=\"M17.41 7.96l-1.37-1.37c-.4-.4-.92-.59-1.43-.59-.52 0-1.04.2-1.43.59L10.3 9.45l-7.72 7.72c-.78.78-.78 2.05 0 2.83L4 21.41c.39.39.9.59 1.41.59.51 0 1.02-.2 1.41-.59l7.78-7.78 2.81-2.81c.8-.78.8-2.07 0-2.86zM5.41 20L4 18.59l7.72-7.72 1.47 1.35L5.41 20z\"/>\n",
              "  </svg>\n",
              "      </button>\n",
              "      \n",
              "  <style>\n",
              "    .colab-df-container {\n",
              "      display:flex;\n",
              "      flex-wrap:wrap;\n",
              "      gap: 12px;\n",
              "    }\n",
              "\n",
              "    .colab-df-convert {\n",
              "      background-color: #E8F0FE;\n",
              "      border: none;\n",
              "      border-radius: 50%;\n",
              "      cursor: pointer;\n",
              "      display: none;\n",
              "      fill: #1967D2;\n",
              "      height: 32px;\n",
              "      padding: 0 0 0 0;\n",
              "      width: 32px;\n",
              "    }\n",
              "\n",
              "    .colab-df-convert:hover {\n",
              "      background-color: #E2EBFA;\n",
              "      box-shadow: 0px 1px 2px rgba(60, 64, 67, 0.3), 0px 1px 3px 1px rgba(60, 64, 67, 0.15);\n",
              "      fill: #174EA6;\n",
              "    }\n",
              "\n",
              "    [theme=dark] .colab-df-convert {\n",
              "      background-color: #3B4455;\n",
              "      fill: #D2E3FC;\n",
              "    }\n",
              "\n",
              "    [theme=dark] .colab-df-convert:hover {\n",
              "      background-color: #434B5C;\n",
              "      box-shadow: 0px 1px 3px 1px rgba(0, 0, 0, 0.15);\n",
              "      filter: drop-shadow(0px 1px 2px rgba(0, 0, 0, 0.3));\n",
              "      fill: #FFFFFF;\n",
              "    }\n",
              "  </style>\n",
              "\n",
              "      <script>\n",
              "        const buttonEl =\n",
              "          document.querySelector('#df-b75ab7a9-a5ac-4c48-bcf0-c734d0426d64 button.colab-df-convert');\n",
              "        buttonEl.style.display =\n",
              "          google.colab.kernel.accessAllowed ? 'block' : 'none';\n",
              "\n",
              "        async function convertToInteractive(key) {\n",
              "          const element = document.querySelector('#df-b75ab7a9-a5ac-4c48-bcf0-c734d0426d64');\n",
              "          const dataTable =\n",
              "            await google.colab.kernel.invokeFunction('convertToInteractive',\n",
              "                                                     [key], {});\n",
              "          if (!dataTable) return;\n",
              "\n",
              "          const docLinkHtml = 'Like what you see? Visit the ' +\n",
              "            '<a target=\"_blank\" href=https://colab.research.google.com/notebooks/data_table.ipynb>data table notebook</a>'\n",
              "            + ' to learn more about interactive tables.';\n",
              "          element.innerHTML = '';\n",
              "          dataTable['output_type'] = 'display_data';\n",
              "          await google.colab.output.renderOutput(dataTable, element);\n",
              "          const docLink = document.createElement('div');\n",
              "          docLink.innerHTML = docLinkHtml;\n",
              "          element.appendChild(docLink);\n",
              "        }\n",
              "      </script>\n",
              "    </div>\n",
              "  </div>\n",
              "  "
            ]
          },
          "metadata": {},
          "execution_count": 30
        }
      ]
    },
    {
      "cell_type": "code",
      "source": [
        "df.corr()['loan_repaid'].sort_values(ascending=True).drop('loan_repaid').plot.bar(color='green')"
      ],
      "metadata": {
        "colab": {
          "base_uri": "https://localhost:8080/",
          "height": 337
        },
        "id": "2MOjkDerecoq",
        "outputId": "ff9b2955-5546-4115-e3e0-0090d82679b1"
      },
      "execution_count": 31,
      "outputs": [
        {
          "output_type": "execute_result",
          "data": {
            "text/plain": [
              "<matplotlib.axes._subplots.AxesSubplot at 0x7f2ff922e910>"
            ]
          },
          "metadata": {},
          "execution_count": 31
        },
        {
          "output_type": "display_data",
          "data": {
            "text/plain": [
              "<Figure size 432x288 with 1 Axes>"
            ],
            "image/png": "[encoded data removed]"
          },
          "metadata": {}
        }
      ]
    },
    {
      "cell_type": "markdown",
      "source": [
        "## Pre-processing"
      ],
      "metadata": {
        "id": "BVxUYBpIXhYT"
      }
    },
    {
      "cell_type": "code",
      "source": [
        "print(len(df))"
      ],
      "metadata": {
        "colab": {
          "base_uri": "https://localhost:8080/"
        },
        "id": "3KCB6BKbbQPu",
        "outputId": "35ed40f8-a818-4129-9be4-f75ffb71a034"
      },
      "execution_count": 32,
      "outputs": [
        {
          "output_type": "stream",
          "name": "stdout",
          "text": [
            "227214\n"
          ]
        }
      ]
    },
    {
      "cell_type": "code",
      "source": [
        "df.isnull().sum()"
      ],
      "metadata": {
        "colab": {
          "base_uri": "https://localhost:8080/"
        },
        "id": "KFwDDmf7em2r",
        "outputId": "fd915c12-23c9-40e0-a44c-c28926eb5277"
      },
      "execution_count": 33,
      "outputs": [
        {
          "output_type": "execute_result",
          "data": {
            "text/plain": [
              "id                         0\n",
              "loan_amnt                  0\n",
              "term                       0\n",
              "int_rate                   0\n",
              "installment                0\n",
              "grade                      0\n",
              "sub_grade                  0\n",
              "emp_title              12703\n",
              "emp_length              8673\n",
              "home_ownership             0\n",
              "annual_inc                 0\n",
              "verification_status        0\n",
              "issue_d                    0\n",
              "loan_status                0\n",
              "purpose                    0\n",
              "title                     13\n",
              "zip_code                   0\n",
              "addr_state                 0\n",
              "dti                        0\n",
              "earliest_cr_line           0\n",
              "open_acc                   0\n",
              "pub_rec                    0\n",
              "revol_bal                  0\n",
              "revol_util               186\n",
              "total_acc                  0\n",
              "initial_list_status        0\n",
              "application_type           0\n",
              "loan_repaid                0\n",
              "dtype: int64"
            ]
          },
          "metadata": {},
          "execution_count": 33
        }
      ]
    },
    {
      "cell_type": "code",
      "source": [
        "plt.figure(figsize=(10,5))\n",
        "((df.isnull().sum())/len(df)*100).plot.bar(title='Percentage of missing values per column', color='green')"
      ],
      "metadata": {
        "colab": {
          "base_uri": "https://localhost:8080/",
          "height": 447
        },
        "id": "nQToRIbfeusI",
        "outputId": "8921861a-18b8-4ddd-cce2-524b76c3a6b0"
      },
      "execution_count": 34,
      "outputs": [
        {
          "output_type": "execute_result",
          "data": {
            "text/plain": [
              "<matplotlib.axes._subplots.AxesSubplot at 0x7f2ff8fc6390>"
            ]
          },
          "metadata": {},
          "execution_count": 34
        },
        {
          "output_type": "display_data",
          "data": {
            "text/plain": [
              "<Figure size 720x360 with 1 Axes>"
            ],
            "image/png": "[encoded data removed]"
          },
          "metadata": {}
        }
      ]
    },
    {
      "cell_type": "code",
      "source": [
        "print(df['emp_title'].nunique())\n",
        "df['emp_title'].value_counts()"
      ],
      "metadata": {
        "colab": {
          "base_uri": "https://localhost:8080/"
        },
        "id": "x_Tl8B8lfFXk",
        "outputId": "12bc78ef-0a12-4f8f-96a2-937527d03d75"
      },
      "execution_count": 35,
      "outputs": [
        {
          "output_type": "stream",
          "name": "stdout",
          "text": [
            "124991\n"
          ]
        },
        {
          "output_type": "execute_result",
          "data": {
            "text/plain": [
              "Teacher                          1527\n",
              "Manager                          1503\n",
              "Registered Nurse                  668\n",
              "RN                                667\n",
              "Supervisor                        658\n",
              "                                 ... \n",
              "Cambridge Associates                1\n",
              "Vericom Global Solutions            1\n",
              "SA Food llc (Arbys San Diego)       1\n",
              "Worsek & Vihon LLP                  1\n",
              "Server Engineer Lead                1\n",
              "Name: emp_title, Length: 124991, dtype: int64"
            ]
          },
          "metadata": {},
          "execution_count": 35
        }
      ]
    },
    {
      "cell_type": "code",
      "source": [
        "df = df.drop('emp_title',axis=1)"
      ],
      "metadata": {
        "id": "pA9gzSgmfIWK"
      },
      "execution_count": 36,
      "outputs": []
    },
    {
      "cell_type": "code",
      "source": [
        "per_charge_off = df[df['loan_repaid'] == 0]['emp_length'].value_counts() / df[df['loan_repaid'] == 1]['emp_length'].value_counts()\n",
        "per_charge_off.plot.bar(color='green')"
      ],
      "metadata": {
        "colab": {
          "base_uri": "https://localhost:8080/",
          "height": 334
        },
        "id": "M6GDZduZfJXG",
        "outputId": "5e1be971-7ed7-4df7-c456-b1d1eadd8ea4"
      },
      "execution_count": 37,
      "outputs": [
        {
          "output_type": "execute_result",
          "data": {
            "text/plain": [
              "<matplotlib.axes._subplots.AxesSubplot at 0x7f2ff8f43cd0>"
            ]
          },
          "metadata": {},
          "execution_count": 37
        },
        {
          "output_type": "display_data",
          "data": {
            "text/plain": [
              "<Figure size 432x288 with 1 Axes>"
            ],
            "image/png": "[encoded data removed]"
          },
          "metadata": {}
        }
      ]
    },
    {
      "cell_type": "code",
      "source": [
        "df = df.drop('emp_length', axis=1)"
      ],
      "metadata": {
        "id": "0DkACXB6fLAv"
      },
      "execution_count": 38,
      "outputs": []
    },
    {
      "cell_type": "code",
      "source": [
        "df[['title', 'purpose']].head(10)"
      ],
      "metadata": {
        "colab": {
          "base_uri": "https://localhost:8080/",
          "height": 363
        },
        "id": "7Eu-fzdofL_1",
        "outputId": "9bc5f413-0458-4e70-b828-269fe8812e3a"
      },
      "execution_count": 39,
      "outputs": [
        {
          "output_type": "execute_result",
          "data": {
            "text/plain": [
              "                                    title             purpose\n",
              "0                                Computer         credit_card\n",
              "1                                    bike                 car\n",
              "2                    real estate business      small_business\n",
              "3                                personel               other\n",
              "5   My wedding loan I promise to pay back             wedding\n",
              "7                         Car Downpayment                 car\n",
              "8    Expand Business & Buy Debt Portfolio      small_business\n",
              "9             Building my credit history.               other\n",
              "10             High intrest Consolidation  debt_consolidation\n",
              "11                          Consolidation  debt_consolidation"
            ],
            "text/html": [
              "\n",
              "  <div id=\"df-f060c244-93ca-4f41-b592-723e9f9423ee\">\n",
              "    <div class=\"colab-df-container\">\n",
              "      <div>\n",
              "<style scoped>\n",
              "    .dataframe tbody tr th:only-of-type {\n",
              "        vertical-align: middle;\n",
              "    }\n",
              "\n",
              "    .dataframe tbody tr th {\n",
              "        vertical-align: top;\n",
              "    }\n",
              "\n",
              "    .dataframe thead th {\n",
              "        text-align: right;\n",
              "    }\n",
              "</style>\n",
              "<table border=\"1\" class=\"dataframe\">\n",
              "  <thead>\n",
              "    <tr style=\"text-align: right;\">\n",
              "      <th></th>\n",
              "      <th>title</th>\n",
              "      <th>purpose</th>\n",
              "    </tr>\n",
              "  </thead>\n",
              "  <tbody>\n",
              "    <tr>\n",
              "      <th>0</th>\n",
              "      <td>Computer</td>\n",
              "      <td>credit_card</td>\n",
              "    </tr>\n",
              "    <tr>\n",
              "      <th>1</th>\n",
              "      <td>bike</td>\n",
              "      <td>car</td>\n",
              "    </tr>\n",
              "    <tr>\n",
              "      <th>2</th>\n",
              "      <td>real estate business</td>\n",
              "      <td>small_business</td>\n",
              "    </tr>\n",
              "    <tr>\n",
              "      <th>3</th>\n",
              "      <td>personel</td>\n",
              "      <td>other</td>\n",
              "    </tr>\n",
              "    <tr>\n",
              "      <th>5</th>\n",
              "      <td>My wedding loan I promise to pay back</td>\n",
              "      <td>wedding</td>\n",
              "    </tr>\n",
              "    <tr>\n",
              "      <th>7</th>\n",
              "      <td>Car Downpayment</td>\n",
              "      <td>car</td>\n",
              "    </tr>\n",
              "    <tr>\n",
              "      <th>8</th>\n",
              "      <td>Expand Business &amp; Buy Debt Portfolio</td>\n",
              "      <td>small_business</td>\n",
              "    </tr>\n",
              "    <tr>\n",
              "      <th>9</th>\n",
              "      <td>Building my credit history.</td>\n",
              "      <td>other</td>\n",
              "    </tr>\n",
              "    <tr>\n",
              "      <th>10</th>\n",
              "      <td>High intrest Consolidation</td>\n",
              "      <td>debt_consolidation</td>\n",
              "    </tr>\n",
              "    <tr>\n",
              "      <th>11</th>\n",
              "      <td>Consolidation</td>\n",
              "      <td>debt_consolidation</td>\n",
              "    </tr>\n",
              "  </tbody>\n",
              "</table>\n",
              "</div>\n",
              "      <button class=\"colab-df-convert\" onclick=\"convertToInteractive('df-f060c244-93ca-4f41-b592-723e9f9423ee')\"\n",
              "              title=\"Convert this dataframe to an interactive table.\"\n",
              "              style=\"display:none;\">\n",
              "        \n",
              "  <svg xmlns=\"http://www.w3.org/2000/svg\" height=\"24px\"viewBox=\"0 0 24 24\"\n",
              "       width=\"24px\">\n",
              "    <path d=\"M0 0h24v24H0V0z\" fill=\"none\"/>\n",
              "    <path d=\"M18.56 5.44l.94 2.06.94-2.06 2.06-.94-2.06-.94-.94-2.06-.94 2.06-2.06.94zm-11 1L8.5 8.5l.94-2.06 2.06-.94-2.06-.94L8.5 2.5l-.94 2.06-2.06.94zm10 10l.94 2.06.94-2.06 2.06-.94-2.06-.94-.94-2.06-.94 2.06-2.06.94z\"/><path d=\"M17.41 7.96l-1.37-1.37c-.4-.4-.92-.59-1.43-.59-.52 0-1.04.2-1.43.59L10.3 9.45l-7.72 7.72c-.78.78-.78 2.05 0 2.83L4 21.41c.39.39.9.59 1.41.59.51 0 1.02-.2 1.41-.59l7.78-7.78 2.81-2.81c.8-.78.8-2.07 0-2.86zM5.41 20L4 18.59l7.72-7.72 1.47 1.35L5.41 20z\"/>\n",
              "  </svg>\n",
              "      </button>\n",
              "      \n",
              "  <style>\n",
              "    .colab-df-container {\n",
              "      display:flex;\n",
              "      flex-wrap:wrap;\n",
              "      gap: 12px;\n",
              "    }\n",
              "\n",
              "    .colab-df-convert {\n",
              "      background-color: #E8F0FE;\n",
              "      border: none;\n",
              "      border-radius: 50%;\n",
              "      cursor: pointer;\n",
              "      display: none;\n",
              "      fill: #1967D2;\n",
              "      height: 32px;\n",
              "      padding: 0 0 0 0;\n",
              "      width: 32px;\n",
              "    }\n",
              "\n",
              "    .colab-df-convert:hover {\n",
              "      background-color: #E2EBFA;\n",
              "      box-shadow: 0px 1px 2px rgba(60, 64, 67, 0.3), 0px 1px 3px 1px rgba(60, 64, 67, 0.15);\n",
              "      fill: #174EA6;\n",
              "    }\n",
              "\n",
              "    [theme=dark] .colab-df-convert {\n",
              "      background-color: #3B4455;\n",
              "      fill: #D2E3FC;\n",
              "    }\n",
              "\n",
              "    [theme=dark] .colab-df-convert:hover {\n",
              "      background-color: #434B5C;\n",
              "      box-shadow: 0px 1px 3px 1px rgba(0, 0, 0, 0.15);\n",
              "      filter: drop-shadow(0px 1px 2px rgba(0, 0, 0, 0.3));\n",
              "      fill: #FFFFFF;\n",
              "    }\n",
              "  </style>\n",
              "\n",
              "      <script>\n",
              "        const buttonEl =\n",
              "          document.querySelector('#df-f060c244-93ca-4f41-b592-723e9f9423ee button.colab-df-convert');\n",
              "        buttonEl.style.display =\n",
              "          google.colab.kernel.accessAllowed ? 'block' : 'none';\n",
              "\n",
              "        async function convertToInteractive(key) {\n",
              "          const element = document.querySelector('#df-f060c244-93ca-4f41-b592-723e9f9423ee');\n",
              "          const dataTable =\n",
              "            await google.colab.kernel.invokeFunction('convertToInteractive',\n",
              "                                                     [key], {});\n",
              "          if (!dataTable) return;\n",
              "\n",
              "          const docLinkHtml = 'Like what you see? Visit the ' +\n",
              "            '<a target=\"_blank\" href=https://colab.research.google.com/notebooks/data_table.ipynb>data table notebook</a>'\n",
              "            + ' to learn more about interactive tables.';\n",
              "          element.innerHTML = '';\n",
              "          dataTable['output_type'] = 'display_data';\n",
              "          await google.colab.output.renderOutput(dataTable, element);\n",
              "          const docLink = document.createElement('div');\n",
              "          docLink.innerHTML = docLinkHtml;\n",
              "          element.appendChild(docLink);\n",
              "        }\n",
              "      </script>\n",
              "    </div>\n",
              "  </div>\n",
              "  "
            ]
          },
          "metadata": {},
          "execution_count": 39
        }
      ]
    },
    {
      "cell_type": "code",
      "source": [
        "df = df.drop('title', axis=1)"
      ],
      "metadata": {
        "id": "C9S2hBhKfMxj"
      },
      "execution_count": 40,
      "outputs": []
    },
    {
      "cell_type": "code",
      "source": [
        "df = df.dropna()"
      ],
      "metadata": {
        "id": "uWCm26HIgDEo"
      },
      "execution_count": 41,
      "outputs": []
    },
    {
      "cell_type": "code",
      "source": [
        "df.isnull().sum()"
      ],
      "metadata": {
        "colab": {
          "base_uri": "https://localhost:8080/"
        },
        "id": "dmz-Et-nf8nw",
        "outputId": "2b45dea2-dc5c-4bbd-b8ed-1b272ee054b1"
      },
      "execution_count": 42,
      "outputs": [
        {
          "output_type": "execute_result",
          "data": {
            "text/plain": [
              "id                     0\n",
              "loan_amnt              0\n",
              "term                   0\n",
              "int_rate               0\n",
              "installment            0\n",
              "grade                  0\n",
              "sub_grade              0\n",
              "home_ownership         0\n",
              "annual_inc             0\n",
              "verification_status    0\n",
              "issue_d                0\n",
              "loan_status            0\n",
              "purpose                0\n",
              "zip_code               0\n",
              "addr_state             0\n",
              "dti                    0\n",
              "earliest_cr_line       0\n",
              "open_acc               0\n",
              "pub_rec                0\n",
              "revol_bal              0\n",
              "revol_util             0\n",
              "total_acc              0\n",
              "initial_list_status    0\n",
              "application_type       0\n",
              "loan_repaid            0\n",
              "dtype: int64"
            ]
          },
          "metadata": {},
          "execution_count": 42
        }
      ]
    },
    {
      "cell_type": "markdown",
      "source": [
        "## Variables"
      ],
      "metadata": {
        "id": "MMahfiYZgOaP"
      }
    },
    {
      "cell_type": "code",
      "source": [
        "print(df['term'].value_counts())\n",
        "print('\\n')\n",
        "print('\\n')\n",
        "\n",
        "df['term'] = df['term'].apply(lambda term: int(term[:3]))\n",
        "\n",
        "print(df['term'].value_counts())"
      ],
      "metadata": {
        "colab": {
          "base_uri": "https://localhost:8080/"
        },
        "id": "bEBacN0pf82d",
        "outputId": "f69d76ce-b9dc-4d11-8d66-8f8c63731da4"
      },
      "execution_count": 43,
      "outputs": [
        {
          "output_type": "stream",
          "name": "stdout",
          "text": [
            " 36 months    178404\n",
            " 60 months     48624\n",
            "Name: term, dtype: int64\n",
            "\n",
            "\n",
            "\n",
            "\n",
            "36    178404\n",
            "60     48624\n",
            "Name: term, dtype: int64\n"
          ]
        }
      ]
    },
    {
      "cell_type": "code",
      "source": [
        "df = df.drop('grade', axis=1)"
      ],
      "metadata": {
        "id": "yyNh0Pklf84e"
      },
      "execution_count": 44,
      "outputs": []
    },
    {
      "cell_type": "code",
      "source": [
        "subgrade_dummies = pd.get_dummies(df['sub_grade'],drop_first=True)\n",
        "df = pd.concat([df.drop('sub_grade',axis=1),subgrade_dummies],axis=1)"
      ],
      "metadata": {
        "id": "KUmUVrwkfOz4"
      },
      "execution_count": 45,
      "outputs": []
    },
    {
      "cell_type": "code",
      "source": [
        "dummies = pd.get_dummies(df[['verification_status', 'application_type','initial_list_status','purpose']], drop_first=True)\n",
        "\n",
        "df = df.drop(['verification_status', 'application_type','initial_list_status','purpose'],axis=1)\n",
        "\n",
        "df = pd.concat([df,dummies],axis=1)"
      ],
      "metadata": {
        "id": "j9sCxrcKgaI6"
      },
      "execution_count": 46,
      "outputs": []
    },
    {
      "cell_type": "code",
      "source": [
        "df['home_ownership'] = df['home_ownership'].replace(['NONE', 'ANY'], 'OTHER')\n",
        "dummies = pd.get_dummies(df['home_ownership'],drop_first=True)\n",
        "df = df.drop('home_ownership',axis=1)\n",
        "df = pd.concat([df,dummies],axis=1)"
      ],
      "metadata": {
        "id": "2frQJ5iTgbuS"
      },
      "execution_count": 47,
      "outputs": []
    },
    {
      "cell_type": "code",
      "source": [
        "df = df.drop('issue_d', axis=1)"
      ],
      "metadata": {
        "id": "cZcajU9wgeeo"
      },
      "execution_count": 48,
      "outputs": []
    },
    {
      "cell_type": "code",
      "source": [
        "df = df.drop('earliest_cr_line', axis=1)\n",
        "\n",
        "df.select_dtypes(['object']).columns"
      ],
      "metadata": {
        "colab": {
          "base_uri": "https://localhost:8080/"
        },
        "id": "KqO-lZT1gfWK",
        "outputId": "f3cb569c-faec-4220-a400-c522cc4f19ff"
      },
      "execution_count": 49,
      "outputs": [
        {
          "output_type": "execute_result",
          "data": {
            "text/plain": [
              "Index(['loan_status', 'zip_code', 'addr_state'], dtype='object')"
            ]
          },
          "metadata": {},
          "execution_count": 49
        }
      ]
    },
    {
      "cell_type": "code",
      "source": [
        "df = df.drop(['loan_status', 'zip_code', 'addr_state'],axis=1)"
      ],
      "metadata": {
        "id": "AQ-1Xjwthk1U"
      },
      "execution_count": 50,
      "outputs": []
    },
    {
      "cell_type": "markdown",
      "source": [
        "## Train test split"
      ],
      "metadata": {
        "id": "yAE1KuCFh_be"
      }
    },
    {
      "cell_type": "code",
      "source": [
        "# Features\n",
        "X = df.drop('loan_repaid',axis=1).values\n",
        "\n",
        "# Label\n",
        "y = df['loan_repaid'].values\n",
        "\n",
        "# Split\n",
        "X_train, X_test, y_train, y_test = train_test_split(X, y, test_size=0.2, random_state=101)"
      ],
      "metadata": {
        "id": "y0PYQS1Hh6cH"
      },
      "execution_count": 51,
      "outputs": []
    },
    {
      "cell_type": "code",
      "source": [
        "print(X_train.shape)\n",
        "print(X_test.shape)\n",
        "print(y_train.shape)\n",
        "print(y_test.shape)"
      ],
      "metadata": {
        "colab": {
          "base_uri": "https://localhost:8080/"
        },
        "id": "TtLSXKCLh-za",
        "outputId": "c42799a9-7424-477d-f18f-6aad2c5cb2e3"
      },
      "execution_count": 52,
      "outputs": [
        {
          "output_type": "stream",
          "name": "stdout",
          "text": [
            "(181622, 65)\n",
            "(45406, 65)\n",
            "(181622,)\n",
            "(45406,)\n"
          ]
        }
      ]
    },
    {
      "cell_type": "code",
      "source": [
        "scaler = MinMaxScaler()\n",
        "\n",
        "# Fit and transfrom\n",
        "X_train = scaler.fit_transform(X_train)\n",
        "X_test = scaler.transform(X_test)\n",
        "\n",
        "# Scaled between 1 and 0\n",
        "print('Max: ', X_train.max())\n",
        "print('Min: ', X_train.min())"
      ],
      "metadata": {
        "colab": {
          "base_uri": "https://localhost:8080/"
        },
        "id": "kq4-mhSPsZSN",
        "outputId": "b611af67-487d-40a5-eef1-58dfa523a07f"
      },
      "execution_count": 53,
      "outputs": [
        {
          "output_type": "stream",
          "name": "stdout",
          "text": [
            "Max:  1.0\n",
            "Min:  0.0\n"
          ]
        }
      ]
    },
    {
      "cell_type": "markdown",
      "source": [
        "### Modelling"
      ],
      "metadata": {
        "id": "Cqo79UhiiKMA"
      }
    },
    {
      "cell_type": "code",
      "source": [
        "model = Sequential()\n",
        "\n",
        "# input layer\n",
        "model.add(Dense(65,activation='relu'))\n",
        "model.add(Dropout(0.2))\n",
        "\n",
        "# hidden layer\n",
        "model.add(Dense(32,activation='relu'))\n",
        "model.add(Dropout(0.2))\n",
        "\n",
        "# hidden layer\n",
        "model.add(Dense(16,activation='relu'))\n",
        "model.add(Dropout(0.2))\n",
        "\n",
        "# output layer\n",
        "model.add(Dense(1, activation='sigmoid'))\n",
        "\n",
        "# compile model\n",
        "model.compile(optimizer=\"adam\", loss='binary_crossentropy')"
      ],
      "metadata": {
        "id": "vSsDe47viGYB"
      },
      "execution_count": 54,
      "outputs": []
    },
    {
      "cell_type": "code",
      "source": [
        "early_stop = EarlyStopping(monitor='val_loss', mode='min', verbose=1, patience=25)"
      ],
      "metadata": {
        "id": "GecLFY5qiOfG"
      },
      "execution_count": 55,
      "outputs": []
    },
    {
      "cell_type": "code",
      "source": [
        "model.fit(x=X_train, \n",
        "          y=y_train, \n",
        "          epochs=400,\n",
        "          verbose=2,\n",
        "          batch_size=256,\n",
        "          validation_data=(X_test, y_test),\n",
        "          callbacks=[early_stop])"
      ],
      "metadata": {
        "colab": {
          "base_uri": "https://localhost:8080/"
        },
        "id": "LLemoNIpiecJ",
        "outputId": "63e8e718-89a7-4cbb-ee74-5d57ca0594ab"
      },
      "execution_count": 56,
      "outputs": [
        {
          "output_type": "stream",
          "name": "stdout",
          "text": [
            "Epoch 1/400\n",
            "710/710 - 3s - loss: 0.4705 - val_loss: 0.4451 - 3s/epoch - 4ms/step\n",
            "Epoch 2/400\n",
            "710/710 - 2s - loss: 0.4549 - val_loss: 0.4425 - 2s/epoch - 3ms/step\n",
            "Epoch 3/400\n",
            "710/710 - 2s - loss: 0.4513 - val_loss: 0.4410 - 2s/epoch - 3ms/step\n",
            "Epoch 4/400\n",
            "710/710 - 2s - loss: 0.4494 - val_loss: 0.4406 - 2s/epoch - 3ms/step\n",
            "Epoch 5/400\n",
            "710/710 - 2s - loss: 0.4476 - val_loss: 0.4402 - 2s/epoch - 3ms/step\n",
            "Epoch 6/400\n",
            "710/710 - 2s - loss: 0.4470 - val_loss: 0.4403 - 2s/epoch - 3ms/step\n",
            "Epoch 7/400\n",
            "710/710 - 2s - loss: 0.4461 - val_loss: 0.4400 - 2s/epoch - 3ms/step\n",
            "Epoch 8/400\n",
            "710/710 - 2s - loss: 0.4453 - val_loss: 0.4402 - 2s/epoch - 3ms/step\n",
            "Epoch 9/400\n",
            "710/710 - 2s - loss: 0.4444 - val_loss: 0.4398 - 2s/epoch - 3ms/step\n",
            "Epoch 10/400\n",
            "710/710 - 2s - loss: 0.4440 - val_loss: 0.4394 - 2s/epoch - 3ms/step\n",
            "Epoch 11/400\n",
            "710/710 - 2s - loss: 0.4436 - val_loss: 0.4392 - 2s/epoch - 3ms/step\n",
            "Epoch 12/400\n",
            "710/710 - 2s - loss: 0.4432 - val_loss: 0.4390 - 2s/epoch - 3ms/step\n",
            "Epoch 13/400\n",
            "710/710 - 2s - loss: 0.4427 - val_loss: 0.4389 - 2s/epoch - 3ms/step\n",
            "Epoch 14/400\n",
            "710/710 - 2s - loss: 0.4424 - val_loss: 0.4390 - 2s/epoch - 3ms/step\n",
            "Epoch 15/400\n",
            "710/710 - 2s - loss: 0.4420 - val_loss: 0.4388 - 2s/epoch - 3ms/step\n",
            "Epoch 16/400\n",
            "710/710 - 2s - loss: 0.4418 - val_loss: 0.4388 - 2s/epoch - 3ms/step\n",
            "Epoch 17/400\n",
            "710/710 - 2s - loss: 0.4419 - val_loss: 0.4389 - 2s/epoch - 3ms/step\n",
            "Epoch 18/400\n",
            "710/710 - 2s - loss: 0.4418 - val_loss: 0.4393 - 2s/epoch - 3ms/step\n",
            "Epoch 19/400\n",
            "710/710 - 2s - loss: 0.4413 - val_loss: 0.4392 - 2s/epoch - 3ms/step\n",
            "Epoch 20/400\n",
            "710/710 - 2s - loss: 0.4411 - val_loss: 0.4400 - 2s/epoch - 3ms/step\n",
            "Epoch 21/400\n",
            "710/710 - 2s - loss: 0.4405 - val_loss: 0.4388 - 2s/epoch - 3ms/step\n",
            "Epoch 22/400\n",
            "710/710 - 3s - loss: 0.4404 - val_loss: 0.4390 - 3s/epoch - 4ms/step\n",
            "Epoch 23/400\n",
            "710/710 - 2s - loss: 0.4404 - val_loss: 0.4391 - 2s/epoch - 3ms/step\n",
            "Epoch 24/400\n",
            "710/710 - 2s - loss: 0.4403 - val_loss: 0.4392 - 2s/epoch - 3ms/step\n",
            "Epoch 25/400\n",
            "710/710 - 2s - loss: 0.4401 - val_loss: 0.4391 - 2s/epoch - 3ms/step\n",
            "Epoch 26/400\n",
            "710/710 - 2s - loss: 0.4398 - val_loss: 0.4389 - 2s/epoch - 3ms/step\n",
            "Epoch 27/400\n",
            "710/710 - 2s - loss: 0.4397 - val_loss: 0.4401 - 2s/epoch - 3ms/step\n",
            "Epoch 28/400\n",
            "710/710 - 2s - loss: 0.4394 - val_loss: 0.4389 - 2s/epoch - 3ms/step\n",
            "Epoch 29/400\n",
            "710/710 - 2s - loss: 0.4393 - val_loss: 0.4392 - 2s/epoch - 3ms/step\n",
            "Epoch 30/400\n",
            "710/710 - 2s - loss: 0.4392 - val_loss: 0.4391 - 2s/epoch - 3ms/step\n",
            "Epoch 31/400\n",
            "710/710 - 2s - loss: 0.4391 - val_loss: 0.4393 - 2s/epoch - 3ms/step\n",
            "Epoch 32/400\n",
            "710/710 - 2s - loss: 0.4389 - val_loss: 0.4399 - 2s/epoch - 3ms/step\n",
            "Epoch 33/400\n",
            "710/710 - 2s - loss: 0.4391 - val_loss: 0.4394 - 2s/epoch - 3ms/step\n",
            "Epoch 34/400\n",
            "710/710 - 2s - loss: 0.4387 - val_loss: 0.4397 - 2s/epoch - 3ms/step\n",
            "Epoch 35/400\n",
            "710/710 - 2s - loss: 0.4388 - val_loss: 0.4393 - 2s/epoch - 3ms/step\n",
            "Epoch 36/400\n",
            "710/710 - 2s - loss: 0.4390 - val_loss: 0.4390 - 2s/epoch - 3ms/step\n",
            "Epoch 37/400\n",
            "710/710 - 2s - loss: 0.4388 - val_loss: 0.4392 - 2s/epoch - 3ms/step\n",
            "Epoch 38/400\n",
            "710/710 - 2s - loss: 0.4384 - val_loss: 0.4400 - 2s/epoch - 3ms/step\n",
            "Epoch 39/400\n",
            "710/710 - 2s - loss: 0.4384 - val_loss: 0.4399 - 2s/epoch - 3ms/step\n",
            "Epoch 40/400\n",
            "710/710 - 2s - loss: 0.4381 - val_loss: 0.4392 - 2s/epoch - 3ms/step\n",
            "Epoch 40: early stopping\n"
          ]
        },
        {
          "output_type": "execute_result",
          "data": {
            "text/plain": [
              "<keras.callbacks.History at 0x7f2ffeedcad0>"
            ]
          },
          "metadata": {},
          "execution_count": 56
        }
      ]
    },
    {
      "cell_type": "code",
      "source": [
        "losses = pd.DataFrame(model.history.history)\n",
        "\n",
        "plt.figure(figsize=(15,5))\n",
        "sns.lineplot(data=losses,lw=3)\n",
        "plt.xlabel('Epochs')\n",
        "plt.ylabel('')\n",
        "plt.title('Training Loss per Epoch')\n",
        "sns.despine()"
      ],
      "metadata": {
        "colab": {
          "base_uri": "https://localhost:8080/",
          "height": 355
        },
        "id": "LvmcSrGfifl5",
        "outputId": "87176830-6d91-4b41-cd9d-43cab84203c6"
      },
      "execution_count": 57,
      "outputs": [
        {
          "output_type": "display_data",
          "data": {
            "text/plain": [
              "<Figure size 1080x360 with 1 Axes>"
            ],
            "image/png": "[encoded data removed]"
          },
          "metadata": {}
        }
      ]
    },
    {
      "cell_type": "code",
      "source": [
        "y_pred = model.predict(X_test)\n",
        "\n",
        "y_pred = y_pred.round()\n",
        "print('Classification Report:')\n",
        "print(classification_report(y_test, y_pred))\n",
        "print('\\n')\n",
        "print('Confusion Matrix:')\n",
        "print(confusion_matrix(y_test, y_pred))"
      ],
      "metadata": {
        "colab": {
          "base_uri": "https://localhost:8080/"
        },
        "id": "UgRdAxOLig7A",
        "outputId": "74b18877-17e0-495d-bd7d-e940e49c75d2"
      },
      "execution_count": 58,
      "outputs": [
        {
          "output_type": "stream",
          "name": "stdout",
          "text": [
            "Classification Report:\n",
            "              precision    recall  f1-score   support\n",
            "\n",
            "           0       0.55      0.05      0.09      8406\n",
            "           1       0.82      0.99      0.90     37000\n",
            "\n",
            "    accuracy                           0.82     45406\n",
            "   macro avg       0.68      0.52      0.49     45406\n",
            "weighted avg       0.77      0.82      0.75     45406\n",
            "\n",
            "\n",
            "\n",
            "Confusion Matrix:\n",
            "[[  388  8018]\n",
            " [  321 36679]]\n"
          ]
        }
      ]
    },
    {
      "cell_type": "code",
      "source": [
        "rnd.seed(101)\n",
        "random_ind = rnd.randint(0,len(df))\n",
        "\n",
        "new_customer = df.drop('loan_repaid',axis=1).iloc[random_ind]\n",
        "new_customer"
      ],
      "metadata": {
        "colab": {
          "base_uri": "https://localhost:8080/"
        },
        "id": "_boABeJ9iisM",
        "outputId": "827d300c-f635-4592-e33b-065b95ad5b28"
      },
      "execution_count": 59,
      "outputs": [
        {
          "output_type": "execute_result",
          "data": {
            "text/plain": [
              "id                  1176649.00\n",
              "loan_amnt             16000.00\n",
              "term                     36.00\n",
              "int_rate                  6.03\n",
              "installment             486.97\n",
              "                       ...    \n",
              "purpose_vacation          0.00\n",
              "purpose_wedding           0.00\n",
              "OTHER                     0.00\n",
              "OWN                       0.00\n",
              "RENT                      0.00\n",
              "Name: 224202, Length: 65, dtype: float64"
            ]
          },
          "metadata": {},
          "execution_count": 59
        }
      ]
    },
    {
      "cell_type": "code",
      "source": [
        "# Reshape data\n",
        "model.predict(new_customer.values.reshape(1,65))"
      ],
      "metadata": {
        "colab": {
          "base_uri": "https://localhost:8080/"
        },
        "id": "iBWZz0Lyij8b",
        "outputId": "b5212352-b0c3-45c0-a3cc-5862495dc84f"
      },
      "execution_count": 60,
      "outputs": [
        {
          "output_type": "execute_result",
          "data": {
            "text/plain": [
              "array([[1.]], dtype=float32)"
            ]
          },
          "metadata": {},
          "execution_count": 60
        }
      ]
    },
    {
      "cell_type": "code",
      "source": [
        "# Prediction\n",
        "df.iloc[random_ind]['loan_repaid']"
      ],
      "metadata": {
        "colab": {
          "base_uri": "https://localhost:8080/"
        },
        "id": "v6V6cBPEilQ_",
        "outputId": "c86f437b-744a-48d6-abd6-82d56f229ef8"
      },
      "execution_count": 61,
      "outputs": [
        {
          "output_type": "execute_result",
          "data": {
            "text/plain": [
              "1.0"
            ]
          },
          "metadata": {},
          "execution_count": 61
        }
      ]
    },
    {
      "cell_type": "code",
      "source": [
        ""
      ],
      "metadata": {
        "id": "87KFM-jivRIS"
      },
      "execution_count": 61,
      "outputs": []
    },
    {
      "cell_type": "code",
      "source": [
        "df.info()"
      ],
      "metadata": {
        "colab": {
          "base_uri": "https://localhost:8080/"
        },
        "id": "mjGMYhdqm-Xc",
        "outputId": "21ab757f-c3ff-41ce-909f-bf007a4ccde3"
      },
      "execution_count": 62,
      "outputs": [
        {
          "output_type": "stream",
          "name": "stdout",
          "text": [
            "<class 'pandas.core.frame.DataFrame'>\n",
            "Int64Index: 227028 entries, 0 to 466283\n",
            "Data columns (total 66 columns):\n",
            " #   Column                               Non-Null Count   Dtype  \n",
            "---  ------                               --------------   -----  \n",
            " 0   id                                   227028 non-null  int64  \n",
            " 1   loan_amnt                            227028 non-null  int64  \n",
            " 2   term                                 227028 non-null  int64  \n",
            " 3   int_rate                             227028 non-null  float64\n",
            " 4   installment                          227028 non-null  float64\n",
            " 5   annual_inc                           227028 non-null  float64\n",
            " 6   dti                                  227028 non-null  float64\n",
            " 7   open_acc                             227028 non-null  float64\n",
            " 8   pub_rec                              227028 non-null  float64\n",
            " 9   revol_bal                            227028 non-null  int64  \n",
            " 10  revol_util                           227028 non-null  float64\n",
            " 11  total_acc                            227028 non-null  float64\n",
            " 12  loan_repaid                          227028 non-null  int64  \n",
            " 13  A2                                   227028 non-null  uint8  \n",
            " 14  A3                                   227028 non-null  uint8  \n",
            " 15  A4                                   227028 non-null  uint8  \n",
            " 16  A5                                   227028 non-null  uint8  \n",
            " 17  B1                                   227028 non-null  uint8  \n",
            " 18  B2                                   227028 non-null  uint8  \n",
            " 19  B3                                   227028 non-null  uint8  \n",
            " 20  B4                                   227028 non-null  uint8  \n",
            " 21  B5                                   227028 non-null  uint8  \n",
            " 22  C1                                   227028 non-null  uint8  \n",
            " 23  C2                                   227028 non-null  uint8  \n",
            " 24  C3                                   227028 non-null  uint8  \n",
            " 25  C4                                   227028 non-null  uint8  \n",
            " 26  C5                                   227028 non-null  uint8  \n",
            " 27  D1                                   227028 non-null  uint8  \n",
            " 28  D2                                   227028 non-null  uint8  \n",
            " 29  D3                                   227028 non-null  uint8  \n",
            " 30  D4                                   227028 non-null  uint8  \n",
            " 31  D5                                   227028 non-null  uint8  \n",
            " 32  E1                                   227028 non-null  uint8  \n",
            " 33  E2                                   227028 non-null  uint8  \n",
            " 34  E3                                   227028 non-null  uint8  \n",
            " 35  E4                                   227028 non-null  uint8  \n",
            " 36  E5                                   227028 non-null  uint8  \n",
            " 37  F1                                   227028 non-null  uint8  \n",
            " 38  F2                                   227028 non-null  uint8  \n",
            " 39  F3                                   227028 non-null  uint8  \n",
            " 40  F4                                   227028 non-null  uint8  \n",
            " 41  F5                                   227028 non-null  uint8  \n",
            " 42  G1                                   227028 non-null  uint8  \n",
            " 43  G2                                   227028 non-null  uint8  \n",
            " 44  G3                                   227028 non-null  uint8  \n",
            " 45  G4                                   227028 non-null  uint8  \n",
            " 46  G5                                   227028 non-null  uint8  \n",
            " 47  verification_status_Source Verified  227028 non-null  uint8  \n",
            " 48  verification_status_Verified         227028 non-null  uint8  \n",
            " 49  initial_list_status_w                227028 non-null  uint8  \n",
            " 50  purpose_credit_card                  227028 non-null  uint8  \n",
            " 51  purpose_debt_consolidation           227028 non-null  uint8  \n",
            " 52  purpose_educational                  227028 non-null  uint8  \n",
            " 53  purpose_home_improvement             227028 non-null  uint8  \n",
            " 54  purpose_house                        227028 non-null  uint8  \n",
            " 55  purpose_major_purchase               227028 non-null  uint8  \n",
            " 56  purpose_medical                      227028 non-null  uint8  \n",
            " 57  purpose_moving                       227028 non-null  uint8  \n",
            " 58  purpose_other                        227028 non-null  uint8  \n",
            " 59  purpose_renewable_energy             227028 non-null  uint8  \n",
            " 60  purpose_small_business               227028 non-null  uint8  \n",
            " 61  purpose_vacation                     227028 non-null  uint8  \n",
            " 62  purpose_wedding                      227028 non-null  uint8  \n",
            " 63  OTHER                                227028 non-null  uint8  \n",
            " 64  OWN                                  227028 non-null  uint8  \n",
            " 65  RENT                                 227028 non-null  uint8  \n",
            "dtypes: float64(8), int64(5), uint8(53)\n",
            "memory usage: 35.7 MB\n"
          ]
        }
      ]
    }
  ]
}